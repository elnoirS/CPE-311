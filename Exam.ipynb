{
 "cells": [
  {
   "cell_type": "code",
   "execution_count": 55,
   "id": "a7534a88-1b0d-47cd-96e7-1167270db94e",
   "metadata": {
    "scrolled": true
   },
   "outputs": [
    {
     "name": "stdout",
     "output_type": "stream",
     "text": [
      "<class 'pandas.core.frame.DataFrame'>\n",
      "RangeIndex: 10 entries, 0 to 9\n",
      "Data columns (total 7 columns):\n",
      " #   Column           Non-Null Count  Dtype  \n",
      "---  ------           --------------  -----  \n",
      " 0   TransactionID    10 non-null     object \n",
      " 1   CustomerID       10 non-null     object \n",
      " 2   TransactionDate  10 non-null     object \n",
      " 3   Product          10 non-null     object \n",
      " 4   Quantity         10 non-null     int64  \n",
      " 5   Price            10 non-null     int64  \n",
      " 6   Discount         10 non-null     float64\n",
      "dtypes: float64(1), int64(2), object(4)\n",
      "memory usage: 692.0+ bytes\n"
     ]
    }
   ],
   "source": [
    "import pandas as pd\n",
    "import matplotlib.pyplot as plt\n",
    "\n",
    "df = pd.read_csv('C:/Users/tipqc/CPE311 - Paala/sales_data_raw.csv') # Loading the CSV file through Pandas\n",
    "df.info() # Observing the sales dataset's structure\n",
    "# In the following info, we can observe that the Transaction Date is in a string.\n",
    "# This can cause issues in its data quality.\n",
    "# We can convert this into a date data type."
   ]
  },
  {
   "cell_type": "code",
   "execution_count": 56,
   "id": "f68967a5-e006-490d-a33e-576432f5bb2b",
   "metadata": {},
   "outputs": [
    {
     "data": {
      "text/html": [
       "<div>\n",
       "<style scoped>\n",
       "    .dataframe tbody tr th:only-of-type {\n",
       "        vertical-align: middle;\n",
       "    }\n",
       "\n",
       "    .dataframe tbody tr th {\n",
       "        vertical-align: top;\n",
       "    }\n",
       "\n",
       "    .dataframe thead th {\n",
       "        text-align: right;\n",
       "    }\n",
       "</style>\n",
       "<table border=\"1\" class=\"dataframe\">\n",
       "  <thead>\n",
       "    <tr style=\"text-align: right;\">\n",
       "      <th></th>\n",
       "      <th>TransactionID</th>\n",
       "      <th>CustomerID</th>\n",
       "      <th>TransactionDate</th>\n",
       "      <th>Product</th>\n",
       "      <th>Quantity</th>\n",
       "      <th>Price</th>\n",
       "      <th>Discount</th>\n",
       "    </tr>\n",
       "  </thead>\n",
       "  <tbody>\n",
       "    <tr>\n",
       "      <th>0</th>\n",
       "      <td>T001</td>\n",
       "      <td>C001</td>\n",
       "      <td>2023-01-01</td>\n",
       "      <td>Widget</td>\n",
       "      <td>2</td>\n",
       "      <td>10</td>\n",
       "      <td>0.00</td>\n",
       "    </tr>\n",
       "    <tr>\n",
       "      <th>1</th>\n",
       "      <td>T002</td>\n",
       "      <td>C002</td>\n",
       "      <td>2023-01-05</td>\n",
       "      <td>Gadget</td>\n",
       "      <td>1</td>\n",
       "      <td>20</td>\n",
       "      <td>0.10</td>\n",
       "    </tr>\n",
       "    <tr>\n",
       "      <th>2</th>\n",
       "      <td>T003</td>\n",
       "      <td>C003</td>\n",
       "      <td>2023-01-07</td>\n",
       "      <td>Widget</td>\n",
       "      <td>3</td>\n",
       "      <td>10</td>\n",
       "      <td>0.00</td>\n",
       "    </tr>\n",
       "    <tr>\n",
       "      <th>3</th>\n",
       "      <td>T004</td>\n",
       "      <td>C002</td>\n",
       "      <td>2023-01-10</td>\n",
       "      <td>Gizmo</td>\n",
       "      <td>5</td>\n",
       "      <td>15</td>\n",
       "      <td>0.05</td>\n",
       "    </tr>\n",
       "    <tr>\n",
       "      <th>4</th>\n",
       "      <td>T005</td>\n",
       "      <td>C001</td>\n",
       "      <td>2023-01-12</td>\n",
       "      <td>Widget</td>\n",
       "      <td>1</td>\n",
       "      <td>10</td>\n",
       "      <td>0.00</td>\n",
       "    </tr>\n",
       "    <tr>\n",
       "      <th>5</th>\n",
       "      <td>T006</td>\n",
       "      <td>C004</td>\n",
       "      <td>2023-01-15</td>\n",
       "      <td>Gadget</td>\n",
       "      <td>2</td>\n",
       "      <td>20</td>\n",
       "      <td>0.20</td>\n",
       "    </tr>\n",
       "    <tr>\n",
       "      <th>6</th>\n",
       "      <td>T007</td>\n",
       "      <td>C005</td>\n",
       "      <td>2023-01-18</td>\n",
       "      <td>Widget</td>\n",
       "      <td>4</td>\n",
       "      <td>10</td>\n",
       "      <td>0.00</td>\n",
       "    </tr>\n",
       "    <tr>\n",
       "      <th>7</th>\n",
       "      <td>T008</td>\n",
       "      <td>C002</td>\n",
       "      <td>2023-01-20</td>\n",
       "      <td>Gizmo</td>\n",
       "      <td>3</td>\n",
       "      <td>15</td>\n",
       "      <td>0.10</td>\n",
       "    </tr>\n",
       "    <tr>\n",
       "      <th>8</th>\n",
       "      <td>T009</td>\n",
       "      <td>C003</td>\n",
       "      <td>2023-01-22</td>\n",
       "      <td>Widget</td>\n",
       "      <td>5</td>\n",
       "      <td>10</td>\n",
       "      <td>0.00</td>\n",
       "    </tr>\n",
       "    <tr>\n",
       "      <th>9</th>\n",
       "      <td>T010</td>\n",
       "      <td>C005</td>\n",
       "      <td>2023-01-25</td>\n",
       "      <td>Gadget</td>\n",
       "      <td>3</td>\n",
       "      <td>20</td>\n",
       "      <td>0.15</td>\n",
       "    </tr>\n",
       "  </tbody>\n",
       "</table>\n",
       "</div>"
      ],
      "text/plain": [
       "  TransactionID CustomerID TransactionDate Product  Quantity  Price  Discount\n",
       "0          T001       C001      2023-01-01  Widget         2     10      0.00\n",
       "1          T002       C002      2023-01-05  Gadget         1     20      0.10\n",
       "2          T003       C003      2023-01-07  Widget         3     10      0.00\n",
       "3          T004       C002      2023-01-10   Gizmo         5     15      0.05\n",
       "4          T005       C001      2023-01-12  Widget         1     10      0.00\n",
       "5          T006       C004      2023-01-15  Gadget         2     20      0.20\n",
       "6          T007       C005      2023-01-18  Widget         4     10      0.00\n",
       "7          T008       C002      2023-01-20   Gizmo         3     15      0.10\n",
       "8          T009       C003      2023-01-22  Widget         5     10      0.00\n",
       "9          T010       C005      2023-01-25  Gadget         3     20      0.15"
      ]
     },
     "execution_count": 56,
     "metadata": {},
     "output_type": "execute_result"
    }
   ],
   "source": [
    "df.head(10) # Observing the values inside the dataset to gain insights."
   ]
  },
  {
   "cell_type": "code",
   "execution_count": 57,
   "id": "854898f2-ec41-4aa9-9c4b-7399ca9f8904",
   "metadata": {},
   "outputs": [],
   "source": [
    "# SALES DATASET\n",
    "# To convert the datatype of the specified attribute,\n",
    "# we should use the pd.to_datetime() function.\n",
    "\n",
    "df['TransactionDate'] = pd.to_datetime(df['TransactionDate'])\n",
    "# Saving the conversion of string to datetime by using the\n",
    "# column itself as the variable."
   ]
  },
  {
   "cell_type": "code",
   "execution_count": 58,
   "id": "77afbd8e-f312-481f-8c1a-a8e49a8de6f4",
   "metadata": {},
   "outputs": [
    {
     "data": {
      "text/plain": [
       "TransactionID              object\n",
       "CustomerID                 object\n",
       "TransactionDate    datetime64[ns]\n",
       "Product                    object\n",
       "Quantity                    int64\n",
       "Price                       int64\n",
       "Discount                  float64\n",
       "dtype: object"
      ]
     },
     "execution_count": 58,
     "metadata": {},
     "output_type": "execute_result"
    }
   ],
   "source": [
    "df.dtypes # Confirming the conversion of datatype"
   ]
  },
  {
   "cell_type": "code",
   "execution_count": 59,
   "id": "3551d3f3-3c32-46b3-94d0-314d0d0217b4",
   "metadata": {},
   "outputs": [
    {
     "name": "stdout",
     "output_type": "stream",
     "text": [
      "<class 'pandas.core.frame.DataFrame'>\n",
      "RangeIndex: 5 entries, 0 to 4\n",
      "Data columns (total 3 columns):\n",
      " #   Column      Non-Null Count  Dtype \n",
      "---  ------      --------------  ----- \n",
      " 0   CustomerID  5 non-null      object\n",
      " 1   Name        5 non-null      object\n",
      " 2   JoinDate    5 non-null      object\n",
      "dtypes: object(3)\n",
      "memory usage: 252.0+ bytes\n"
     ]
    }
   ],
   "source": [
    "df2 = pd.read_json('C:/Users/tipqc/CPE311 - Paala/customers_data.json')\n",
    "# First, we load the customer dataset into a dataframe.\n",
    "df2.info()\n",
    "# We can observe from the given info that the\n",
    "# JoinDate attribute is in a string datatype.\n",
    "# This can cause issues in the data quality.\n",
    "# The datatype can be converted into a datetime datatype\n",
    "# to improve its data quality."
   ]
  },
  {
   "cell_type": "code",
   "execution_count": 60,
   "id": "20bfa8c9-6e63-483b-89f5-18899928782b",
   "metadata": {},
   "outputs": [
    {
     "data": {
      "text/html": [
       "<div>\n",
       "<style scoped>\n",
       "    .dataframe tbody tr th:only-of-type {\n",
       "        vertical-align: middle;\n",
       "    }\n",
       "\n",
       "    .dataframe tbody tr th {\n",
       "        vertical-align: top;\n",
       "    }\n",
       "\n",
       "    .dataframe thead th {\n",
       "        text-align: right;\n",
       "    }\n",
       "</style>\n",
       "<table border=\"1\" class=\"dataframe\">\n",
       "  <thead>\n",
       "    <tr style=\"text-align: right;\">\n",
       "      <th></th>\n",
       "      <th>CustomerID</th>\n",
       "      <th>Name</th>\n",
       "      <th>JoinDate</th>\n",
       "    </tr>\n",
       "  </thead>\n",
       "  <tbody>\n",
       "    <tr>\n",
       "      <th>0</th>\n",
       "      <td>C001</td>\n",
       "      <td>Alice</td>\n",
       "      <td>2022-12-01</td>\n",
       "    </tr>\n",
       "    <tr>\n",
       "      <th>1</th>\n",
       "      <td>C002</td>\n",
       "      <td>Bob</td>\n",
       "      <td>2022-11-15</td>\n",
       "    </tr>\n",
       "    <tr>\n",
       "      <th>2</th>\n",
       "      <td>C003</td>\n",
       "      <td>Charlie</td>\n",
       "      <td>2023-01-05</td>\n",
       "    </tr>\n",
       "    <tr>\n",
       "      <th>3</th>\n",
       "      <td>C004</td>\n",
       "      <td>Diana</td>\n",
       "      <td>2023-01-10</td>\n",
       "    </tr>\n",
       "    <tr>\n",
       "      <th>4</th>\n",
       "      <td>C005</td>\n",
       "      <td>Evan</td>\n",
       "      <td>2023-01-20</td>\n",
       "    </tr>\n",
       "  </tbody>\n",
       "</table>\n",
       "</div>"
      ],
      "text/plain": [
       "  CustomerID     Name    JoinDate\n",
       "0       C001    Alice  2022-12-01\n",
       "1       C002      Bob  2022-11-15\n",
       "2       C003  Charlie  2023-01-05\n",
       "3       C004    Diana  2023-01-10\n",
       "4       C005     Evan  2023-01-20"
      ]
     },
     "execution_count": 60,
     "metadata": {},
     "output_type": "execute_result"
    }
   ],
   "source": [
    "df2.head()"
   ]
  },
  {
   "cell_type": "code",
   "execution_count": 61,
   "id": "2600ef69-dcaf-4e77-893a-02a20ee402b0",
   "metadata": {},
   "outputs": [],
   "source": [
    "# CUSTOMERS DATASET\n",
    "# To convert the datatype of the specified attribute,\n",
    "# we should use the pd.to_datetime() function.\n",
    "df2['JoinDate'] = pd.to_datetime(df2['JoinDate'])\n",
    "# Saving the conversion of string to datetime by using the\n",
    "# column itself as the variable."
   ]
  },
  {
   "cell_type": "code",
   "execution_count": 62,
   "id": "a8bc264d-86a2-4fe7-912e-688c063fc5ab",
   "metadata": {},
   "outputs": [
    {
     "data": {
      "text/plain": [
       "CustomerID            object\n",
       "Name                  object\n",
       "JoinDate      datetime64[ns]\n",
       "dtype: object"
      ]
     },
     "execution_count": 62,
     "metadata": {},
     "output_type": "execute_result"
    }
   ],
   "source": [
    "df2.dtypes # Confirming the conversion of datatype"
   ]
  },
  {
   "cell_type": "code",
   "execution_count": 63,
   "id": "2370bd02-4b62-430d-8041-9782a1752168",
   "metadata": {},
   "outputs": [],
   "source": [
    "def fta(df): # We load the dataset inside into the function\n",
    "    final_trans_amount = (df['Quantity'] * df['Price']) * (1 - df['Discount'])\n",
    "    # The formula saved in a variable \"final_trans_amount\"\n",
    "    return final_trans_amount\n",
    "    # The output of the function is the result of the formula."
   ]
  },
  {
   "cell_type": "code",
   "execution_count": 64,
   "id": "2c4d1242-320b-447c-b32b-36ce7cf30aa6",
   "metadata": {},
   "outputs": [
    {
     "data": {
      "text/html": [
       "<div>\n",
       "<style scoped>\n",
       "    .dataframe tbody tr th:only-of-type {\n",
       "        vertical-align: middle;\n",
       "    }\n",
       "\n",
       "    .dataframe tbody tr th {\n",
       "        vertical-align: top;\n",
       "    }\n",
       "\n",
       "    .dataframe thead th {\n",
       "        text-align: right;\n",
       "    }\n",
       "</style>\n",
       "<table border=\"1\" class=\"dataframe\">\n",
       "  <thead>\n",
       "    <tr style=\"text-align: right;\">\n",
       "      <th></th>\n",
       "      <th>TransactionID</th>\n",
       "      <th>CustomerID</th>\n",
       "      <th>TransactionDate</th>\n",
       "      <th>Product</th>\n",
       "      <th>Quantity</th>\n",
       "      <th>Price</th>\n",
       "      <th>Discount</th>\n",
       "    </tr>\n",
       "  </thead>\n",
       "  <tbody>\n",
       "    <tr>\n",
       "      <th>0</th>\n",
       "      <td>T001</td>\n",
       "      <td>C001</td>\n",
       "      <td>2023-01-01</td>\n",
       "      <td>Widget</td>\n",
       "      <td>2</td>\n",
       "      <td>10</td>\n",
       "      <td>0.00</td>\n",
       "    </tr>\n",
       "    <tr>\n",
       "      <th>1</th>\n",
       "      <td>T002</td>\n",
       "      <td>C002</td>\n",
       "      <td>2023-01-05</td>\n",
       "      <td>Gadget</td>\n",
       "      <td>1</td>\n",
       "      <td>20</td>\n",
       "      <td>0.10</td>\n",
       "    </tr>\n",
       "    <tr>\n",
       "      <th>2</th>\n",
       "      <td>T003</td>\n",
       "      <td>C003</td>\n",
       "      <td>2023-01-07</td>\n",
       "      <td>Widget</td>\n",
       "      <td>3</td>\n",
       "      <td>10</td>\n",
       "      <td>0.00</td>\n",
       "    </tr>\n",
       "    <tr>\n",
       "      <th>3</th>\n",
       "      <td>T004</td>\n",
       "      <td>C002</td>\n",
       "      <td>2023-01-10</td>\n",
       "      <td>Gizmo</td>\n",
       "      <td>5</td>\n",
       "      <td>15</td>\n",
       "      <td>0.05</td>\n",
       "    </tr>\n",
       "    <tr>\n",
       "      <th>4</th>\n",
       "      <td>T005</td>\n",
       "      <td>C001</td>\n",
       "      <td>2023-01-12</td>\n",
       "      <td>Widget</td>\n",
       "      <td>1</td>\n",
       "      <td>10</td>\n",
       "      <td>0.00</td>\n",
       "    </tr>\n",
       "  </tbody>\n",
       "</table>\n",
       "</div>"
      ],
      "text/plain": [
       "  TransactionID CustomerID TransactionDate Product  Quantity  Price  Discount\n",
       "0          T001       C001      2023-01-01  Widget         2     10      0.00\n",
       "1          T002       C002      2023-01-05  Gadget         1     20      0.10\n",
       "2          T003       C003      2023-01-07  Widget         3     10      0.00\n",
       "3          T004       C002      2023-01-10   Gizmo         5     15      0.05\n",
       "4          T005       C001      2023-01-12  Widget         1     10      0.00"
      ]
     },
     "execution_count": 64,
     "metadata": {},
     "output_type": "execute_result"
    }
   ],
   "source": [
    "df.head()"
   ]
  },
  {
   "cell_type": "code",
   "execution_count": 65,
   "id": "f50ae04f-4bae-4e1c-a53f-6322c507003c",
   "metadata": {},
   "outputs": [
    {
     "ename": "AttributeError",
     "evalue": "'Series' object has no attribute 'remove_duplicate'",
     "output_type": "error",
     "traceback": [
      "\u001b[1;31m---------------------------------------------------------------------------\u001b[0m",
      "\u001b[1;31mAttributeError\u001b[0m                            Traceback (most recent call last)",
      "\u001b[1;32m~\\AppData\\Local\\Temp\\ipykernel_6604\\1517997168.py\u001b[0m in \u001b[0;36m?\u001b[1;34m()\u001b[0m\n\u001b[1;32m----> 1\u001b[1;33m \u001b[0mdf\u001b[0m\u001b[1;33m[\u001b[0m\u001b[1;34m'Product'\u001b[0m\u001b[1;33m]\u001b[0m\u001b[1;33m.\u001b[0m\u001b[0mremove_duplicate\u001b[0m\u001b[1;33m(\u001b[0m\u001b[1;33m)\u001b[0m\u001b[1;33m\u001b[0m\u001b[1;33m\u001b[0m\u001b[0m\n\u001b[0m",
      "\u001b[1;32mC:\\ProgramData\\anaconda3\\Lib\\site-packages\\pandas\\core\\generic.py\u001b[0m in \u001b[0;36m?\u001b[1;34m(self, name)\u001b[0m\n\u001b[0;32m   6295\u001b[0m             \u001b[1;32mand\u001b[0m \u001b[0mname\u001b[0m \u001b[1;32mnot\u001b[0m \u001b[1;32min\u001b[0m \u001b[0mself\u001b[0m\u001b[1;33m.\u001b[0m\u001b[0m_accessors\u001b[0m\u001b[1;33m\u001b[0m\u001b[1;33m\u001b[0m\u001b[0m\n\u001b[0;32m   6296\u001b[0m             \u001b[1;32mand\u001b[0m \u001b[0mself\u001b[0m\u001b[1;33m.\u001b[0m\u001b[0m_info_axis\u001b[0m\u001b[1;33m.\u001b[0m\u001b[0m_can_hold_identifiers_and_holds_name\u001b[0m\u001b[1;33m(\u001b[0m\u001b[0mname\u001b[0m\u001b[1;33m)\u001b[0m\u001b[1;33m\u001b[0m\u001b[1;33m\u001b[0m\u001b[0m\n\u001b[0;32m   6297\u001b[0m         \u001b[1;33m)\u001b[0m\u001b[1;33m:\u001b[0m\u001b[1;33m\u001b[0m\u001b[1;33m\u001b[0m\u001b[0m\n\u001b[0;32m   6298\u001b[0m             \u001b[1;32mreturn\u001b[0m \u001b[0mself\u001b[0m\u001b[1;33m[\u001b[0m\u001b[0mname\u001b[0m\u001b[1;33m]\u001b[0m\u001b[1;33m\u001b[0m\u001b[1;33m\u001b[0m\u001b[0m\n\u001b[1;32m-> 6299\u001b[1;33m         \u001b[1;32mreturn\u001b[0m \u001b[0mobject\u001b[0m\u001b[1;33m.\u001b[0m\u001b[0m__getattribute__\u001b[0m\u001b[1;33m(\u001b[0m\u001b[0mself\u001b[0m\u001b[1;33m,\u001b[0m \u001b[0mname\u001b[0m\u001b[1;33m)\u001b[0m\u001b[1;33m\u001b[0m\u001b[1;33m\u001b[0m\u001b[0m\n\u001b[0m",
      "\u001b[1;31mAttributeError\u001b[0m: 'Series' object has no attribute 'remove_duplicate'"
     ]
    }
   ],
   "source": [
    "df['Product'].remove_duplicate()"
   ]
  },
  {
   "cell_type": "code",
   "execution_count": 66,
   "id": "8e4bea11-5f3a-46d2-9d43-f3f73b72c7e5",
   "metadata": {},
   "outputs": [
    {
     "name": "stdout",
     "output_type": "stream",
     "text": [
      "<class 'pandas.core.frame.DataFrame'>\n",
      "RangeIndex: 10 entries, 0 to 9\n",
      "Data columns (total 7 columns):\n",
      " #   Column           Non-Null Count  Dtype  \n",
      "---  ------           --------------  -----  \n",
      " 0   TransactionID    10 non-null     object \n",
      " 1   CustomerID       10 non-null     object \n",
      " 2   TransactionDate  10 non-null     object \n",
      " 3   Product          10 non-null     object \n",
      " 4   Quantity         10 non-null     int64  \n",
      " 5   Price            10 non-null     int64  \n",
      " 6   Discount         10 non-null     float64\n",
      "dtypes: float64(1), int64(2), object(4)\n",
      "memory usage: 692.0+ bytes\n"
     ]
    }
   ],
   "source": [
    "df_unsaved = pd.read_csv('C:/Users/tipqc/CPE311 - paala/sales_data_raw.csv')\n",
    "df_unsaved.info()\n",
    "# An ETL pipeline is a process where raw datasets are observed and cleaned.\n",
    "# Extract means extracting the raw dataset by loading it into a dataframe,\n",
    "# analyze its attributes and datatypes; extracting chosen attributes to use. "
   ]
  },
  {
   "cell_type": "code",
   "execution_count": 67,
   "id": "6036f53b-ec3e-4d4f-a0d9-2dfb0442b485",
   "metadata": {},
   "outputs": [
    {
     "name": "stdout",
     "output_type": "stream",
     "text": [
      "<class 'pandas.core.frame.DataFrame'>\n",
      "RangeIndex: 10 entries, 0 to 9\n",
      "Data columns (total 7 columns):\n",
      " #   Column           Non-Null Count  Dtype         \n",
      "---  ------           --------------  -----         \n",
      " 0   TransactionID    10 non-null     object        \n",
      " 1   CustomerID       10 non-null     object        \n",
      " 2   TransactionDate  10 non-null     datetime64[ns]\n",
      " 3   Product          10 non-null     object        \n",
      " 4   Quantity         10 non-null     int64         \n",
      " 5   Price            10 non-null     int64         \n",
      " 6   Discount         10 non-null     float64       \n",
      "dtypes: datetime64[ns](1), float64(1), int64(2), object(3)\n",
      "memory usage: 692.0+ bytes\n"
     ]
    }
   ],
   "source": [
    "# Transform means to transform the chosen attributes such as filling the NaN values,\n",
    "# changing the datatype of the attributes, renaming attributes, and so on.\n",
    "df_unsaved['TransactionDate'] = pd.to_datetime(df['TransactionDate'])\n",
    "df_unsaved.info()"
   ]
  },
  {
   "cell_type": "code",
   "execution_count": 90,
   "id": "36ddfb44-5f3f-47da-8296-b1dc6110de7f",
   "metadata": {},
   "outputs": [],
   "source": [
    "df_unsaved_query = df_unsaved.query(\"`Product` == 'Widget'\")"
   ]
  },
  {
   "cell_type": "code",
   "execution_count": 91,
   "id": "3b65570e-feee-407c-8c22-12e7dad35c93",
   "metadata": {},
   "outputs": [
    {
     "data": {
      "text/html": [
       "<div>\n",
       "<style scoped>\n",
       "    .dataframe tbody tr th:only-of-type {\n",
       "        vertical-align: middle;\n",
       "    }\n",
       "\n",
       "    .dataframe tbody tr th {\n",
       "        vertical-align: top;\n",
       "    }\n",
       "\n",
       "    .dataframe thead th {\n",
       "        text-align: right;\n",
       "    }\n",
       "</style>\n",
       "<table border=\"1\" class=\"dataframe\">\n",
       "  <thead>\n",
       "    <tr style=\"text-align: right;\">\n",
       "      <th></th>\n",
       "      <th>TransactionID</th>\n",
       "      <th>CustomerID</th>\n",
       "      <th>TransactionDate</th>\n",
       "      <th>Product</th>\n",
       "      <th>Quantity</th>\n",
       "      <th>Price</th>\n",
       "      <th>Discount</th>\n",
       "    </tr>\n",
       "  </thead>\n",
       "  <tbody>\n",
       "    <tr>\n",
       "      <th>0</th>\n",
       "      <td>T001</td>\n",
       "      <td>C001</td>\n",
       "      <td>2023-01-01</td>\n",
       "      <td>Widget</td>\n",
       "      <td>2</td>\n",
       "      <td>10</td>\n",
       "      <td>0.0</td>\n",
       "    </tr>\n",
       "    <tr>\n",
       "      <th>2</th>\n",
       "      <td>T003</td>\n",
       "      <td>C003</td>\n",
       "      <td>2023-01-07</td>\n",
       "      <td>Widget</td>\n",
       "      <td>3</td>\n",
       "      <td>10</td>\n",
       "      <td>0.0</td>\n",
       "    </tr>\n",
       "    <tr>\n",
       "      <th>4</th>\n",
       "      <td>T005</td>\n",
       "      <td>C001</td>\n",
       "      <td>2023-01-12</td>\n",
       "      <td>Widget</td>\n",
       "      <td>1</td>\n",
       "      <td>10</td>\n",
       "      <td>0.0</td>\n",
       "    </tr>\n",
       "    <tr>\n",
       "      <th>6</th>\n",
       "      <td>T007</td>\n",
       "      <td>C005</td>\n",
       "      <td>2023-01-18</td>\n",
       "      <td>Widget</td>\n",
       "      <td>4</td>\n",
       "      <td>10</td>\n",
       "      <td>0.0</td>\n",
       "    </tr>\n",
       "    <tr>\n",
       "      <th>8</th>\n",
       "      <td>T009</td>\n",
       "      <td>C003</td>\n",
       "      <td>2023-01-22</td>\n",
       "      <td>Widget</td>\n",
       "      <td>5</td>\n",
       "      <td>10</td>\n",
       "      <td>0.0</td>\n",
       "    </tr>\n",
       "  </tbody>\n",
       "</table>\n",
       "</div>"
      ],
      "text/plain": [
       "  TransactionID CustomerID TransactionDate Product  Quantity  Price  Discount\n",
       "0          T001       C001      2023-01-01  Widget         2     10       0.0\n",
       "2          T003       C003      2023-01-07  Widget         3     10       0.0\n",
       "4          T005       C001      2023-01-12  Widget         1     10       0.0\n",
       "6          T007       C005      2023-01-18  Widget         4     10       0.0\n",
       "8          T009       C003      2023-01-22  Widget         5     10       0.0"
      ]
     },
     "execution_count": 91,
     "metadata": {},
     "output_type": "execute_result"
    }
   ],
   "source": [
    "df_unsaved_query.head()"
   ]
  },
  {
   "cell_type": "code",
   "execution_count": 93,
   "id": "62fb7003-e1ab-418e-91eb-b507aa959395",
   "metadata": {},
   "outputs": [],
   "source": [
    "df_unsaved_query.to_csv('C:/Users/tipqc/CPE311 - paala/salesdatasetwidget.csv')\n",
    "# Load means to load these attributes into a separate dataframe,\n",
    "# in order to analyze and gain insights from the cleaned dataset."
   ]
  },
  {
   "cell_type": "code",
   "execution_count": 94,
   "id": "dc315870-57bc-4111-bbc6-59a25c7f5e4f",
   "metadata": {},
   "outputs": [
    {
     "data": {
      "text/html": [
       "<div>\n",
       "<style scoped>\n",
       "    .dataframe tbody tr th:only-of-type {\n",
       "        vertical-align: middle;\n",
       "    }\n",
       "\n",
       "    .dataframe tbody tr th {\n",
       "        vertical-align: top;\n",
       "    }\n",
       "\n",
       "    .dataframe thead th {\n",
       "        text-align: right;\n",
       "    }\n",
       "</style>\n",
       "<table border=\"1\" class=\"dataframe\">\n",
       "  <thead>\n",
       "    <tr style=\"text-align: right;\">\n",
       "      <th></th>\n",
       "      <th>Unnamed: 0</th>\n",
       "      <th>TransactionID</th>\n",
       "      <th>CustomerID</th>\n",
       "      <th>TransactionDate</th>\n",
       "      <th>Product</th>\n",
       "      <th>Quantity</th>\n",
       "      <th>Price</th>\n",
       "      <th>Discount</th>\n",
       "    </tr>\n",
       "  </thead>\n",
       "  <tbody>\n",
       "    <tr>\n",
       "      <th>0</th>\n",
       "      <td>0</td>\n",
       "      <td>T001</td>\n",
       "      <td>C001</td>\n",
       "      <td>2023-01-01</td>\n",
       "      <td>Widget</td>\n",
       "      <td>2</td>\n",
       "      <td>10</td>\n",
       "      <td>0.0</td>\n",
       "    </tr>\n",
       "    <tr>\n",
       "      <th>1</th>\n",
       "      <td>2</td>\n",
       "      <td>T003</td>\n",
       "      <td>C003</td>\n",
       "      <td>2023-01-07</td>\n",
       "      <td>Widget</td>\n",
       "      <td>3</td>\n",
       "      <td>10</td>\n",
       "      <td>0.0</td>\n",
       "    </tr>\n",
       "    <tr>\n",
       "      <th>2</th>\n",
       "      <td>4</td>\n",
       "      <td>T005</td>\n",
       "      <td>C001</td>\n",
       "      <td>2023-01-12</td>\n",
       "      <td>Widget</td>\n",
       "      <td>1</td>\n",
       "      <td>10</td>\n",
       "      <td>0.0</td>\n",
       "    </tr>\n",
       "    <tr>\n",
       "      <th>3</th>\n",
       "      <td>6</td>\n",
       "      <td>T007</td>\n",
       "      <td>C005</td>\n",
       "      <td>2023-01-18</td>\n",
       "      <td>Widget</td>\n",
       "      <td>4</td>\n",
       "      <td>10</td>\n",
       "      <td>0.0</td>\n",
       "    </tr>\n",
       "    <tr>\n",
       "      <th>4</th>\n",
       "      <td>8</td>\n",
       "      <td>T009</td>\n",
       "      <td>C003</td>\n",
       "      <td>2023-01-22</td>\n",
       "      <td>Widget</td>\n",
       "      <td>5</td>\n",
       "      <td>10</td>\n",
       "      <td>0.0</td>\n",
       "    </tr>\n",
       "  </tbody>\n",
       "</table>\n",
       "</div>"
      ],
      "text/plain": [
       "   Unnamed: 0 TransactionID CustomerID TransactionDate Product  Quantity  \\\n",
       "0           0          T001       C001      2023-01-01  Widget         2   \n",
       "1           2          T003       C003      2023-01-07  Widget         3   \n",
       "2           4          T005       C001      2023-01-12  Widget         1   \n",
       "3           6          T007       C005      2023-01-18  Widget         4   \n",
       "4           8          T009       C003      2023-01-22  Widget         5   \n",
       "\n",
       "   Price  Discount  \n",
       "0     10       0.0  \n",
       "1     10       0.0  \n",
       "2     10       0.0  \n",
       "3     10       0.0  \n",
       "4     10       0.0  "
      ]
     },
     "execution_count": 94,
     "metadata": {},
     "output_type": "execute_result"
    }
   ],
   "source": [
    "df_new_load = pd.read_csv('C:/Users/tipqc/CPE311 - paala/salesdatasetwidget.csv')\n",
    "df_new_load.head()"
   ]
  },
  {
   "cell_type": "code",
   "execution_count": 103,
   "id": "a7aae3fb-e293-4ad3-8fa5-3df5961092db",
   "metadata": {},
   "outputs": [],
   "source": [
    "df_merged = pd.concat([df, df2]) # Concatenate both tables\n",
    "df_merged.to_csv('C:/Users/tipqc/CPE311 - paala/new.csv', index=False)\n",
    "# This function is to create a separate file where the combined table is saved."
   ]
  },
  {
   "cell_type": "code",
   "execution_count": null,
   "id": "8f591639-3884-4eed-85f4-b75d92aa7a35",
   "metadata": {},
   "outputs": [],
   "source": []
  }
 ],
 "metadata": {
  "kernelspec": {
   "display_name": "Python 3 (ipykernel)",
   "language": "python",
   "name": "python3"
  },
  "language_info": {
   "codemirror_mode": {
    "name": "ipython",
    "version": 3
   },
   "file_extension": ".py",
   "mimetype": "text/x-python",
   "name": "python",
   "nbconvert_exporter": "python",
   "pygments_lexer": "ipython3",
   "version": "3.12.4"
  }
 },
 "nbformat": 4,
 "nbformat_minor": 5
}
