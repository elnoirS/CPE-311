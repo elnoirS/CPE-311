{
 "cells": [
  {
   "cell_type": "markdown",
   "id": "d6f7136b-228a-483a-a4c6-16fdbe6aae56",
   "metadata": {},
   "source": [
    "# Hands-on Activity 6.1 Introduction to Data Analysis and Tools"
   ]
  },
  {
   "cell_type": "markdown",
   "id": "12714139-1a75-4236-8ed3-c1d56d94d1a9",
   "metadata": {},
   "source": [
    "**CPE311 Computational Thinking with Python**"
   ]
  },
  {
   "cell_type": "markdown",
   "id": "e3196bb5-9f5f-4b52-b027-f18aacfa4a55",
   "metadata": {},
   "source": [
    "Name: Paala, Anton <br>\n",
    "Section: CPE22S3"
   ]
  },
  {
   "cell_type": "markdown",
   "id": "7d96c720-b676-4722-a3e3-ab755c202048",
   "metadata": {},
   "source": [
    "Performed on: 04/05/2025 <br>\n",
    "Submitted on: 04/05/2025 <br>\n",
    "Submitted to: Engr. Roman M. Richard"
   ]
  },
  {
   "cell_type": "markdown",
   "id": "41da11fa-4cd0-423d-a0e1-1e04b2a129ef",
   "metadata": {},
   "source": [
    "# 6.1 Intended Learning Outcome"
   ]
  },
  {
   "cell_type": "markdown",
   "id": "ed982a4a-6fa2-44e9-8c68-a4981253d3a3",
   "metadata": {},
   "source": [
    "1. Use pandas and numpy data analysis tools."
   ]
  },
  {
   "cell_type": "markdown",
   "id": "dbffdb48-bcf3-479b-89f7-7a239bf349c7",
   "metadata": {},
   "source": [
    "2. Demonstrate how to analyze data using numpy and pandas"
   ]
  },
  {
   "cell_type": "markdown",
   "id": "9b131ab7-6829-46a1-b5bf-370f79e34539",
   "metadata": {},
   "source": [
    "# 6.2 Resources:"
   ]
  },
  {
   "cell_type": "markdown",
   "id": "e3e9ae57-4b71-40a6-9b80-1738c6274488",
   "metadata": {},
   "source": [
    "- Personal Computer"
   ]
  },
  {
   "cell_type": "markdown",
   "id": "eac74599-1af3-4fb4-b570-d1f98e39e5b6",
   "metadata": {},
   "source": [
    "- Jupyter Notebook"
   ]
  },
  {
   "cell_type": "markdown",
   "id": "3d79527e-b527-47aa-a2c4-b0d13aba60ca",
   "metadata": {},
   "source": [
    "- Internet Connection"
   ]
  },
  {
   "cell_type": "markdown",
   "id": "bb2217e6-18bb-4b1a-8d8f-68a992286a9f",
   "metadata": {},
   "source": [
    "# 6.3 Supplementary Activities:"
   ]
  },
  {
   "cell_type": "markdown",
   "id": "0ff79a1f-3f96-4772-93a0-a896f77ddae8",
   "metadata": {},
   "source": [
    "**Exercise 1**"
   ]
  },
  {
   "cell_type": "markdown",
   "id": "c65c32cf-f1dd-4494-b67c-392046b4a101",
   "metadata": {},
   "source": [
    "Run the given code below for exercises 1 and 2, perform the given tasks without using any Python modules."
   ]
  },
  {
   "cell_type": "code",
   "execution_count": 1,
   "id": "191ed13e-b7c4-44be-95d2-34ce382351da",
   "metadata": {},
   "outputs": [],
   "source": [
    "import random\n",
    "random.seed(0)\n",
    "salaries = [round(random.random()*10000000, -3) for _ in range(100)]"
   ]
  },
  {
   "cell_type": "code",
   "execution_count": 2,
   "id": "93c8390f-033f-4d55-94f6-3cd25e93418f",
   "metadata": {},
   "outputs": [
    {
     "data": {
      "text/plain": [
       "5856720.0"
      ]
     },
     "execution_count": 2,
     "metadata": {},
     "output_type": "execute_result"
    }
   ],
   "source": [
    "# getting the Mean\n",
    "meannostat = sum(salaries)/len(salaries)\n",
    "meannostat"
   ]
  },
  {
   "cell_type": "code",
   "execution_count": 3,
   "id": "caa13ea1-e097-4745-aa5e-e7b2700bfd55",
   "metadata": {},
   "outputs": [
    {
     "data": {
      "text/plain": [
       "5898000.0"
      ]
     },
     "execution_count": 3,
     "metadata": {},
     "output_type": "execute_result"
    }
   ],
   "source": [
    "# getting the Median\n",
    "mediannostat = 0\n",
    "if not len(salaries)%2:\n",
    "    mediannostat = sorted(salaries)[len(salaries)//2]\n",
    "else:\n",
    "    mediannostat = (sorted(salaries)[len(salaries)//2] + salaries[len(salaries)//2-1])/2.0\n",
    "mediannostat"
   ]
  },
  {
   "cell_type": "code",
   "execution_count": 4,
   "id": "5f9cff26-aa01-4608-95dc-0670b96b79ae",
   "metadata": {},
   "outputs": [
    {
     "data": {
      "text/plain": [
       "6128000.0"
      ]
     },
     "execution_count": 4,
     "metadata": {},
     "output_type": "execute_result"
    }
   ],
   "source": [
    "# getting the Mode\n",
    "modenostat = max(set(salaries), key=salaries.count)\n",
    "modenostat"
   ]
  },
  {
   "cell_type": "code",
   "execution_count": 5,
   "id": "c34f3111-a16e-41a8-ad11-7b6497433af1",
   "metadata": {},
   "outputs": [
    {
     "data": {
      "text/plain": [
       "7066255112727.272"
      ]
     },
     "execution_count": 5,
     "metadata": {},
     "output_type": "execute_result"
    }
   ],
   "source": [
    "# getting the sample variance\n",
    "list_sv = [(i-meannostat)**2 for i in salaries]\n",
    "sv = sum(list_sv)/(len(salaries)-1)\n",
    "sv"
   ]
  },
  {
   "cell_type": "code",
   "execution_count": 6,
   "id": "76f83a16-9a35-4f80-8180-af640cc14873",
   "metadata": {},
   "outputs": [
    {
     "data": {
      "text/plain": [
       "2658242.8618783634"
      ]
     },
     "execution_count": 6,
     "metadata": {},
     "output_type": "execute_result"
    }
   ],
   "source": [
    "# getting the standard deviation\n",
    "sv = sv**0.5\n",
    "sv"
   ]
  },
  {
   "cell_type": "code",
   "execution_count": 7,
   "id": "e6f78339-fe47-488b-a6ae-de12711b976d",
   "metadata": {},
   "outputs": [
    {
     "data": {
      "text/plain": [
       "5856720.0"
      ]
     },
     "execution_count": 7,
     "metadata": {},
     "output_type": "execute_result"
    }
   ],
   "source": [
    "# the mean takes the sum of all numbers over the number of values\n",
    "from statistics import mean\n",
    "mean(salaries)"
   ]
  },
  {
   "cell_type": "code",
   "execution_count": 13,
   "id": "69193ac5-3198-46f0-ae21-845dd656d5dc",
   "metadata": {},
   "outputs": [
    {
     "data": {
      "text/plain": [
       "5887000.0"
      ]
     },
     "execution_count": 13,
     "metadata": {},
     "output_type": "execute_result"
    }
   ],
   "source": [
    "# The median takes the value of the middle number among the sorted data.\n",
    "from statistics import median\n",
    "median(salaries)"
   ]
  },
  {
   "cell_type": "code",
   "execution_count": 14,
   "id": "3df7bd6a-c506-4c03-89eb-0b8dc135a322",
   "metadata": {},
   "outputs": [
    {
     "data": {
      "text/plain": [
       "6128000.0"
      ]
     },
     "execution_count": 14,
     "metadata": {},
     "output_type": "execute_result"
    }
   ],
   "source": [
    "# This showcases the value that has the most occurences through the list.\n",
    "from statistics import mode\n",
    "mode(salaries)"
   ]
  },
  {
   "cell_type": "code",
   "execution_count": 15,
   "id": "f2a701f9-d0bc-42ec-9863-2d86d589a4c1",
   "metadata": {},
   "outputs": [
    {
     "data": {
      "text/plain": [
       "7066255112727.272"
      ]
     },
     "execution_count": 15,
     "metadata": {},
     "output_type": "execute_result"
    }
   ],
   "source": [
    "# The mean subtracts each value, raising to square over the number of values minus one. \n",
    "from statistics import variance\n",
    "variance(salaries)"
   ]
  },
  {
   "cell_type": "code",
   "execution_count": 12,
   "id": "15fee908-6b4b-4cda-85a4-411d699a0b5f",
   "metadata": {},
   "outputs": [
    {
     "data": {
      "text/plain": [
       "2658242.8618783634"
      ]
     },
     "execution_count": 12,
     "metadata": {},
     "output_type": "execute_result"
    }
   ],
   "source": [
    "# This is the squareroot of the variance\n",
    "from statistics import stdev\n",
    "stdev(salaries)"
   ]
  },
  {
   "cell_type": "markdown",
   "id": "2901e26c-c542-4f4e-8254-bdff5c09fbb9",
   "metadata": {},
   "source": [
    "**Exercise 2**\n"
   ]
  },
  {
   "cell_type": "markdown",
   "id": "f6baea76-d06d-447b-b2ba-7954c4707212",
   "metadata": {},
   "source": [
    "Using the same data, calculate the following statistics using the functions in the statistics module where appropriate: "
   ]
  },
  {
   "cell_type": "code",
   "execution_count": 16,
   "id": "9686d228-a92e-4230-a27c-8fbd869f9827",
   "metadata": {},
   "outputs": [
    {
     "ename": "SyntaxError",
     "evalue": "invalid syntax (1653267685.py, line 1)",
     "output_type": "error",
     "traceback": [
      "  \u001b[36mCell\u001b[39m\u001b[36m \u001b[39m\u001b[32mIn[16]\u001b[39m\u001b[32m, line 1\u001b[39m\n\u001b[31m    \u001b[39m\u001b[31m- Range <br>\u001b[39m\n                ^\n\u001b[31mSyntaxError\u001b[39m\u001b[31m:\u001b[39m invalid syntax\n"
     ]
    }
   ],
   "source": [
    "- Range <br>\n",
    "- Coefficient"
   ]
  },
  {
   "cell_type": "code",
   "execution_count": null,
   "id": "8044a689-2afa-4c8a-920c-a10884a1f89b",
   "metadata": {},
   "outputs": [],
   "source": []
  }
 ],
 "metadata": {
  "kernelspec": {
   "display_name": "Python 3 (ipykernel)",
   "language": "python",
   "name": "python3"
  },
  "language_info": {
   "codemirror_mode": {
    "name": "ipython",
    "version": 3
   },
   "file_extension": ".py",
   "mimetype": "text/x-python",
   "name": "python",
   "nbconvert_exporter": "python",
   "pygments_lexer": "ipython3",
   "version": "3.11.4"
  }
 },
 "nbformat": 4,
 "nbformat_minor": 5
}
