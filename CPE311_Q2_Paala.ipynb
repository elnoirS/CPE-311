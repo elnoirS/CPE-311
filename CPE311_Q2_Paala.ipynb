{
 "cells": [
  {
   "cell_type": "code",
   "execution_count": 11,
   "id": "b2149281-f95c-4d46-bbbd-f701a6406cf9",
   "metadata": {},
   "outputs": [],
   "source": [
    "# Given a sequence of n real numbers A(1) ... A(n), determine a contiguous subsequence A(i) ... A(j) for which the sum of elements in the subsequence is maximized.\n",
    "\n",
    "def sequencerun(n):\n",
    "    a = []\n",
    "    b = []\n",
    "    for i in n:\n",
    "        try:\n",
    "            if n[i]:\n",
    "            a = n\n",
    "        except ValueError:\n",
    "            b = n\n",
    "        \"\"\" val = (len(n)%2)\n",
    "        if val == (len(n)%2):\n",
    "            a = n\n",
    "            print(a)\n",
    "        else:\n",
    "            b = n \"\"\"\n",
    "        \n",
    "        \n",
    "        \n",
    "    \n",
    "        \n",
    "        \n",
    "\n",
    "x = [1, 4, 6, 7, 10, 6, 10, 11]\n",
    "sequencerun(x)\n",
    "\n",
    "# Arguments: find the subsequence by putting each value in each A and B lists"
   ]
  }
 ],
 "metadata": {
  "kernelspec": {
   "display_name": "Python 3 (ipykernel)",
   "language": "python",
   "name": "python3"
  },
  "language_info": {
   "codemirror_mode": {
    "name": "ipython",
    "version": 3
   },
   "file_extension": ".py",
   "mimetype": "text/x-python",
   "name": "python",
   "nbconvert_exporter": "python",
   "pygments_lexer": "ipython3",
   "version": "3.12.4"
  }
 },
 "nbformat": 4,
 "nbformat_minor": 5
}
