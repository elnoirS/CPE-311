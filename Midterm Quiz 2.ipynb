{
 "cells": [
  {
   "cell_type": "code",
   "execution_count": 28,
   "id": "e719b9c6-56ca-4c16-bff6-0176a614d955",
   "metadata": {},
   "outputs": [
    {
     "data": {
      "text/plain": [
       "Index(['no', 'id.orig_p', 'id.resp_p', 'proto', 'service', 'flow_duration',\n",
       "       'fwd_pkts_tot', 'bwd_pkts_tot', 'fwd_data_pkts_tot',\n",
       "       'bwd_data_pkts_tot', 'fwd_pkts_per_sec', 'bwd_pkts_per_sec',\n",
       "       'flow_pkts_per_sec', 'down_up_ratio', 'fwd_header_size_tot',\n",
       "       'fwd_header_size_min', 'fwd_header_size_max', 'bwd_header_size_tot',\n",
       "       'bwd_header_size_min', 'bwd_header_size_max', 'flow_FIN_flag_count',\n",
       "       'flow_SYN_flag_count', 'flow_RST_flag_count', 'fwd_PSH_flag_count',\n",
       "       'bwd_PSH_flag_count', 'flow_ACK_flag_count', 'fwd_URG_flag_count',\n",
       "       'bwd_URG_flag_count', 'flow_CWR_flag_count', 'flow_ECE_flag_count',\n",
       "       'fwd_pkts_payload.min', 'fwd_pkts_payload.max', 'fwd_pkts_payload.tot',\n",
       "       'fwd_pkts_payload.avg', 'fwd_pkts_payload.std', 'bwd_pkts_payload.min',\n",
       "       'bwd_pkts_payload.max', 'bwd_pkts_payload.tot', 'bwd_pkts_payload.avg',\n",
       "       'bwd_pkts_payload.std', 'flow_pkts_payload.min',\n",
       "       'flow_pkts_payload.max', 'flow_pkts_payload.tot',\n",
       "       'flow_pkts_payload.avg', 'flow_pkts_payload.std', 'fwd_iat.min',\n",
       "       'fwd_iat.max', 'fwd_iat.tot', 'fwd_iat.avg', 'fwd_iat.std',\n",
       "       'bwd_iat.min', 'bwd_iat.max', 'bwd_iat.tot', 'bwd_iat.avg',\n",
       "       'bwd_iat.std', 'flow_iat.min', 'flow_iat.max', 'flow_iat.tot',\n",
       "       'flow_iat.avg', 'flow_iat.std', 'payload_bytes_per_second',\n",
       "       'fwd_subflow_pkts', 'bwd_subflow_pkts', 'fwd_subflow_bytes',\n",
       "       'bwd_subflow_bytes', 'fwd_bulk_bytes', 'bwd_bulk_bytes',\n",
       "       'fwd_bulk_packets', 'bwd_bulk_packets', 'fwd_bulk_rate',\n",
       "       'bwd_bulk_rate', 'active.min', 'active.max', 'active.tot', 'active.avg',\n",
       "       'active.std', 'idle.min', 'idle.max', 'idle.tot', 'idle.avg',\n",
       "       'idle.std', 'fwd_init_window_size', 'bwd_init_window_size',\n",
       "       'fwd_last_window_size', 'Attack_type'],\n",
       "      dtype='object')"
      ]
     },
     "execution_count": 28,
     "metadata": {},
     "output_type": "execute_result"
    }
   ],
   "source": [
    "import pandas as pd\n",
    "import matplotlib.pyplot as plt\n",
    "\n",
    "df = pd.read_csv('C:/Users/tipqc/CPE311 - Paala/RT_IOT2022.csv')\n",
    "df.columns"
   ]
  },
  {
   "cell_type": "code",
   "execution_count": 7,
   "id": "5bd70c47-6420-4c0e-9a64-a6336f50268c",
   "metadata": {},
   "outputs": [
    {
     "data": {
      "text/html": [
       "<div>\n",
       "<style scoped>\n",
       "    .dataframe tbody tr th:only-of-type {\n",
       "        vertical-align: middle;\n",
       "    }\n",
       "\n",
       "    .dataframe tbody tr th {\n",
       "        vertical-align: top;\n",
       "    }\n",
       "\n",
       "    .dataframe thead th {\n",
       "        text-align: right;\n",
       "    }\n",
       "</style>\n",
       "<table border=\"1\" class=\"dataframe\">\n",
       "  <thead>\n",
       "    <tr style=\"text-align: right;\">\n",
       "      <th></th>\n",
       "      <th>no</th>\n",
       "      <th>id.orig_p</th>\n",
       "      <th>id.resp_p</th>\n",
       "      <th>proto</th>\n",
       "      <th>service</th>\n",
       "      <th>flow_duration</th>\n",
       "      <th>fwd_pkts_tot</th>\n",
       "      <th>bwd_pkts_tot</th>\n",
       "      <th>fwd_data_pkts_tot</th>\n",
       "      <th>bwd_data_pkts_tot</th>\n",
       "      <th>...</th>\n",
       "      <th>active.std</th>\n",
       "      <th>idle.min</th>\n",
       "      <th>idle.max</th>\n",
       "      <th>idle.tot</th>\n",
       "      <th>idle.avg</th>\n",
       "      <th>idle.std</th>\n",
       "      <th>fwd_init_window_size</th>\n",
       "      <th>bwd_init_window_size</th>\n",
       "      <th>fwd_last_window_size</th>\n",
       "      <th>Attack_type</th>\n",
       "    </tr>\n",
       "  </thead>\n",
       "  <tbody>\n",
       "    <tr>\n",
       "      <th>0</th>\n",
       "      <td>0</td>\n",
       "      <td>38667</td>\n",
       "      <td>1883</td>\n",
       "      <td>tcp</td>\n",
       "      <td>mqtt</td>\n",
       "      <td>32.011598</td>\n",
       "      <td>9</td>\n",
       "      <td>5</td>\n",
       "      <td>3</td>\n",
       "      <td>3</td>\n",
       "      <td>...</td>\n",
       "      <td>0.0</td>\n",
       "      <td>2.972918e+07</td>\n",
       "      <td>2.972918e+07</td>\n",
       "      <td>2.972918e+07</td>\n",
       "      <td>2.972918e+07</td>\n",
       "      <td>0.0</td>\n",
       "      <td>64240</td>\n",
       "      <td>26847</td>\n",
       "      <td>502</td>\n",
       "      <td>MQTT_Publish</td>\n",
       "    </tr>\n",
       "    <tr>\n",
       "      <th>1</th>\n",
       "      <td>1</td>\n",
       "      <td>51143</td>\n",
       "      <td>1883</td>\n",
       "      <td>tcp</td>\n",
       "      <td>mqtt</td>\n",
       "      <td>31.883584</td>\n",
       "      <td>9</td>\n",
       "      <td>5</td>\n",
       "      <td>3</td>\n",
       "      <td>3</td>\n",
       "      <td>...</td>\n",
       "      <td>0.0</td>\n",
       "      <td>2.985528e+07</td>\n",
       "      <td>2.985528e+07</td>\n",
       "      <td>2.985528e+07</td>\n",
       "      <td>2.985528e+07</td>\n",
       "      <td>0.0</td>\n",
       "      <td>64240</td>\n",
       "      <td>26847</td>\n",
       "      <td>502</td>\n",
       "      <td>MQTT_Publish</td>\n",
       "    </tr>\n",
       "    <tr>\n",
       "      <th>2</th>\n",
       "      <td>2</td>\n",
       "      <td>44761</td>\n",
       "      <td>1883</td>\n",
       "      <td>tcp</td>\n",
       "      <td>mqtt</td>\n",
       "      <td>32.124053</td>\n",
       "      <td>9</td>\n",
       "      <td>5</td>\n",
       "      <td>3</td>\n",
       "      <td>3</td>\n",
       "      <td>...</td>\n",
       "      <td>0.0</td>\n",
       "      <td>2.984215e+07</td>\n",
       "      <td>2.984215e+07</td>\n",
       "      <td>2.984215e+07</td>\n",
       "      <td>2.984215e+07</td>\n",
       "      <td>0.0</td>\n",
       "      <td>64240</td>\n",
       "      <td>26847</td>\n",
       "      <td>502</td>\n",
       "      <td>MQTT_Publish</td>\n",
       "    </tr>\n",
       "    <tr>\n",
       "      <th>3</th>\n",
       "      <td>3</td>\n",
       "      <td>60893</td>\n",
       "      <td>1883</td>\n",
       "      <td>tcp</td>\n",
       "      <td>mqtt</td>\n",
       "      <td>31.961063</td>\n",
       "      <td>9</td>\n",
       "      <td>5</td>\n",
       "      <td>3</td>\n",
       "      <td>3</td>\n",
       "      <td>...</td>\n",
       "      <td>0.0</td>\n",
       "      <td>2.991377e+07</td>\n",
       "      <td>2.991377e+07</td>\n",
       "      <td>2.991377e+07</td>\n",
       "      <td>2.991377e+07</td>\n",
       "      <td>0.0</td>\n",
       "      <td>64240</td>\n",
       "      <td>26847</td>\n",
       "      <td>502</td>\n",
       "      <td>MQTT_Publish</td>\n",
       "    </tr>\n",
       "    <tr>\n",
       "      <th>4</th>\n",
       "      <td>4</td>\n",
       "      <td>51087</td>\n",
       "      <td>1883</td>\n",
       "      <td>tcp</td>\n",
       "      <td>mqtt</td>\n",
       "      <td>31.902362</td>\n",
       "      <td>9</td>\n",
       "      <td>5</td>\n",
       "      <td>3</td>\n",
       "      <td>3</td>\n",
       "      <td>...</td>\n",
       "      <td>0.0</td>\n",
       "      <td>2.981470e+07</td>\n",
       "      <td>2.981470e+07</td>\n",
       "      <td>2.981470e+07</td>\n",
       "      <td>2.981470e+07</td>\n",
       "      <td>0.0</td>\n",
       "      <td>64240</td>\n",
       "      <td>26847</td>\n",
       "      <td>502</td>\n",
       "      <td>MQTT_Publish</td>\n",
       "    </tr>\n",
       "  </tbody>\n",
       "</table>\n",
       "<p>5 rows × 85 columns</p>\n",
       "</div>"
      ],
      "text/plain": [
       "   no  id.orig_p  id.resp_p proto service  flow_duration  fwd_pkts_tot  \\\n",
       "0   0      38667       1883   tcp    mqtt      32.011598             9   \n",
       "1   1      51143       1883   tcp    mqtt      31.883584             9   \n",
       "2   2      44761       1883   tcp    mqtt      32.124053             9   \n",
       "3   3      60893       1883   tcp    mqtt      31.961063             9   \n",
       "4   4      51087       1883   tcp    mqtt      31.902362             9   \n",
       "\n",
       "   bwd_pkts_tot  fwd_data_pkts_tot  bwd_data_pkts_tot  ...  active.std  \\\n",
       "0             5                  3                  3  ...         0.0   \n",
       "1             5                  3                  3  ...         0.0   \n",
       "2             5                  3                  3  ...         0.0   \n",
       "3             5                  3                  3  ...         0.0   \n",
       "4             5                  3                  3  ...         0.0   \n",
       "\n",
       "       idle.min      idle.max      idle.tot      idle.avg  idle.std  \\\n",
       "0  2.972918e+07  2.972918e+07  2.972918e+07  2.972918e+07       0.0   \n",
       "1  2.985528e+07  2.985528e+07  2.985528e+07  2.985528e+07       0.0   \n",
       "2  2.984215e+07  2.984215e+07  2.984215e+07  2.984215e+07       0.0   \n",
       "3  2.991377e+07  2.991377e+07  2.991377e+07  2.991377e+07       0.0   \n",
       "4  2.981470e+07  2.981470e+07  2.981470e+07  2.981470e+07       0.0   \n",
       "\n",
       "   fwd_init_window_size  bwd_init_window_size  fwd_last_window_size  \\\n",
       "0                 64240                 26847                   502   \n",
       "1                 64240                 26847                   502   \n",
       "2                 64240                 26847                   502   \n",
       "3                 64240                 26847                   502   \n",
       "4                 64240                 26847                   502   \n",
       "\n",
       "    Attack_type  \n",
       "0  MQTT_Publish  \n",
       "1  MQTT_Publish  \n",
       "2  MQTT_Publish  \n",
       "3  MQTT_Publish  \n",
       "4  MQTT_Publish  \n",
       "\n",
       "[5 rows x 85 columns]"
      ]
     },
     "execution_count": 7,
     "metadata": {},
     "output_type": "execute_result"
    }
   ],
   "source": [
    "df.head()"
   ]
  },
  {
   "cell_type": "code",
   "execution_count": 12,
   "id": "aeaa6091-5959-465a-a75e-6de32736d483",
   "metadata": {},
   "outputs": [
    {
     "data": {
      "text/plain": [
       "array(['MQTT_Publish', 'Thing_Speak', 'Wipro_bulb', 'ARP_poisioning',\n",
       "       'DDOS_Slowloris', 'DOS_SYN_Hping', 'Metasploit_Brute_Force_SSH',\n",
       "       'NMAP_FIN_SCAN', 'NMAP_OS_DETECTION', 'NMAP_TCP_scan',\n",
       "       'NMAP_UDP_SCAN', 'NMAP_XMAS_TREE_SCAN'], dtype=object)"
      ]
     },
     "execution_count": 12,
     "metadata": {},
     "output_type": "execute_result"
    }
   ],
   "source": [
    "df['Attack_type'].unique()"
   ]
  },
  {
   "cell_type": "code",
   "execution_count": 13,
   "id": "b2113075-605a-45d2-bca1-da1669373b3d",
   "metadata": {},
   "outputs": [
    {
     "data": {
      "text/plain": [
       "array(['tcp', 'udp', 'icmp'], dtype=object)"
      ]
     },
     "execution_count": 13,
     "metadata": {},
     "output_type": "execute_result"
    }
   ],
   "source": [
    "df['proto'].unique()"
   ]
  },
  {
   "cell_type": "code",
   "execution_count": 16,
   "id": "f51450a0-358d-4e82-b3c6-be16e8614688",
   "metadata": {},
   "outputs": [
    {
     "data": {
      "text/plain": [
       "array([ 1883,    80,    53, ..., 45685, 49179, 58631], dtype=int64)"
      ]
     },
     "execution_count": 16,
     "metadata": {},
     "output_type": "execute_result"
    }
   ],
   "source": [
    "df['id.resp_p'].unique()"
   ]
  },
  {
   "cell_type": "code",
   "execution_count": 31,
   "id": "142413f6-10ff-4788-a179-440a951a6b60",
   "metadata": {},
   "outputs": [],
   "source": [
    "df_to_transform = df[['no', 'id.orig_p', \n",
    "                      'id.resp_p',\n",
    "                      'down_up_ratio',\n",
    "                      'proto', \n",
    "                      'service',\n",
    "                      'flow_duration', \n",
    "                      'payload_bytes_per_second',\n",
    "                      'active.avg',\n",
    "                      'idle.avg',\n",
    "                      'Attack_type']]"
   ]
  },
  {
   "cell_type": "code",
   "execution_count": 21,
   "id": "84990ef1-dd23-414a-877d-c013cd790043",
   "metadata": {},
   "outputs": [],
   "source": [
    "df_to_transform.to_csv('C:/Users/tipqc/CPE311 - Paala/Transformed_IoT2022.csv', index=False)"
   ]
  },
  {
   "cell_type": "code",
   "execution_count": 22,
   "id": "1d7e5c7f-fa4c-4b39-b0e8-e2ac64eddc88",
   "metadata": {},
   "outputs": [],
   "source": [
    "tf_iotDF = pd.read_csv('C:/Users/tipqc/CPE311 - Paala/Transformed_IoT2022.csv')"
   ]
  },
  {
   "cell_type": "code",
   "execution_count": 23,
   "id": "4c796325-bceb-4c3e-8140-431c0f0e82aa",
   "metadata": {},
   "outputs": [
    {
     "data": {
      "text/html": [
       "<div>\n",
       "<style scoped>\n",
       "    .dataframe tbody tr th:only-of-type {\n",
       "        vertical-align: middle;\n",
       "    }\n",
       "\n",
       "    .dataframe tbody tr th {\n",
       "        vertical-align: top;\n",
       "    }\n",
       "\n",
       "    .dataframe thead th {\n",
       "        text-align: right;\n",
       "    }\n",
       "</style>\n",
       "<table border=\"1\" class=\"dataframe\">\n",
       "  <thead>\n",
       "    <tr style=\"text-align: right;\">\n",
       "      <th></th>\n",
       "      <th>no</th>\n",
       "      <th>id.orig_p</th>\n",
       "      <th>id.resp_p</th>\n",
       "      <th>down_up_ratio</th>\n",
       "      <th>proto</th>\n",
       "      <th>service</th>\n",
       "      <th>flow_duration</th>\n",
       "      <th>payload_bytes_per_second</th>\n",
       "      <th>active.avg</th>\n",
       "      <th>idle.avg</th>\n",
       "      <th>Attack_type</th>\n",
       "    </tr>\n",
       "  </thead>\n",
       "  <tbody>\n",
       "    <tr>\n",
       "      <th>0</th>\n",
       "      <td>0</td>\n",
       "      <td>38667</td>\n",
       "      <td>1883</td>\n",
       "      <td>0.555556</td>\n",
       "      <td>tcp</td>\n",
       "      <td>mqtt</td>\n",
       "      <td>32.011598</td>\n",
       "      <td>3.373777</td>\n",
       "      <td>2.282415e+06</td>\n",
       "      <td>2.972918e+07</td>\n",
       "      <td>MQTT_Publish</td>\n",
       "    </tr>\n",
       "    <tr>\n",
       "      <th>1</th>\n",
       "      <td>1</td>\n",
       "      <td>51143</td>\n",
       "      <td>1883</td>\n",
       "      <td>0.555556</td>\n",
       "      <td>tcp</td>\n",
       "      <td>mqtt</td>\n",
       "      <td>31.883584</td>\n",
       "      <td>3.387323</td>\n",
       "      <td>2.028307e+06</td>\n",
       "      <td>2.985528e+07</td>\n",
       "      <td>MQTT_Publish</td>\n",
       "    </tr>\n",
       "    <tr>\n",
       "      <th>2</th>\n",
       "      <td>2</td>\n",
       "      <td>44761</td>\n",
       "      <td>1883</td>\n",
       "      <td>0.555556</td>\n",
       "      <td>tcp</td>\n",
       "      <td>mqtt</td>\n",
       "      <td>32.124053</td>\n",
       "      <td>3.237450</td>\n",
       "      <td>2.281904e+06</td>\n",
       "      <td>2.984215e+07</td>\n",
       "      <td>MQTT_Publish</td>\n",
       "    </tr>\n",
       "    <tr>\n",
       "      <th>3</th>\n",
       "      <td>3</td>\n",
       "      <td>60893</td>\n",
       "      <td>1883</td>\n",
       "      <td>0.555556</td>\n",
       "      <td>tcp</td>\n",
       "      <td>mqtt</td>\n",
       "      <td>31.961063</td>\n",
       "      <td>3.253959</td>\n",
       "      <td>2.047288e+06</td>\n",
       "      <td>2.991377e+07</td>\n",
       "      <td>MQTT_Publish</td>\n",
       "    </tr>\n",
       "    <tr>\n",
       "      <th>4</th>\n",
       "      <td>4</td>\n",
       "      <td>51087</td>\n",
       "      <td>1883</td>\n",
       "      <td>0.555556</td>\n",
       "      <td>tcp</td>\n",
       "      <td>mqtt</td>\n",
       "      <td>31.902362</td>\n",
       "      <td>3.385329</td>\n",
       "      <td>2.087657e+06</td>\n",
       "      <td>2.981470e+07</td>\n",
       "      <td>MQTT_Publish</td>\n",
       "    </tr>\n",
       "  </tbody>\n",
       "</table>\n",
       "</div>"
      ],
      "text/plain": [
       "   no  id.orig_p  id.resp_p  down_up_ratio proto service  flow_duration  \\\n",
       "0   0      38667       1883       0.555556   tcp    mqtt      32.011598   \n",
       "1   1      51143       1883       0.555556   tcp    mqtt      31.883584   \n",
       "2   2      44761       1883       0.555556   tcp    mqtt      32.124053   \n",
       "3   3      60893       1883       0.555556   tcp    mqtt      31.961063   \n",
       "4   4      51087       1883       0.555556   tcp    mqtt      31.902362   \n",
       "\n",
       "   payload_bytes_per_second    active.avg      idle.avg   Attack_type  \n",
       "0                  3.373777  2.282415e+06  2.972918e+07  MQTT_Publish  \n",
       "1                  3.387323  2.028307e+06  2.985528e+07  MQTT_Publish  \n",
       "2                  3.237450  2.281904e+06  2.984215e+07  MQTT_Publish  \n",
       "3                  3.253959  2.047288e+06  2.991377e+07  MQTT_Publish  \n",
       "4                  3.385329  2.087657e+06  2.981470e+07  MQTT_Publish  "
      ]
     },
     "execution_count": 23,
     "metadata": {},
     "output_type": "execute_result"
    }
   ],
   "source": [
    "tf_iotDF.head()"
   ]
  },
  {
   "cell_type": "code",
   "execution_count": 25,
   "id": "4a338a5c-e6c4-4b92-b328-1c171db782b0",
   "metadata": {},
   "outputs": [
    {
     "data": {
      "text/plain": [
       "Attack_type\n",
       "DOS_SYN_Hping                 94659\n",
       "Thing_Speak                    8108\n",
       "ARP_poisioning                 7750\n",
       "MQTT_Publish                   4146\n",
       "NMAP_UDP_SCAN                  2590\n",
       "NMAP_XMAS_TREE_SCAN            2010\n",
       "NMAP_OS_DETECTION              2000\n",
       "NMAP_TCP_scan                  1002\n",
       "DDOS_Slowloris                  534\n",
       "Wipro_bulb                      253\n",
       "Metasploit_Brute_Force_SSH       37\n",
       "NMAP_FIN_SCAN                    28\n",
       "Name: count, dtype: int64"
      ]
     },
     "execution_count": 25,
     "metadata": {},
     "output_type": "execute_result"
    }
   ],
   "source": [
    "tf_iotDF.Attack_type.value_counts()"
   ]
  },
  {
   "cell_type": "code",
   "execution_count": 41,
   "id": "341038b4-aa1b-40dc-afba-e65cedb6c694",
   "metadata": {},
   "outputs": [
    {
     "ename": "ValueError",
     "evalue": "x must be 1D",
     "output_type": "error",
     "traceback": [
      "\u001b[1;31m---------------------------------------------------------------------------\u001b[0m",
      "\u001b[1;31mValueError\u001b[0m                                Traceback (most recent call last)",
      "Cell \u001b[1;32mIn[41], line 7\u001b[0m\n\u001b[0;32m      1\u001b[0m \u001b[38;5;66;03m#plt.plot(dataframe)\u001b[39;00m\n\u001b[0;32m      2\u001b[0m \u001b[38;5;66;03m#plt.title('Attack Type Percentage')\u001b[39;00m\n\u001b[0;32m      3\u001b[0m \u001b[38;5;66;03m#plt.xlabel('Hello')\u001b[39;00m\n\u001b[0;32m      4\u001b[0m \u001b[38;5;66;03m#plt.ylabel('Yes')\u001b[39;00m\n\u001b[0;32m      6\u001b[0m index_tf \u001b[38;5;241m=\u001b[39m [tf_iotDF[\u001b[38;5;124m'\u001b[39m\u001b[38;5;124mAttack_type\u001b[39m\u001b[38;5;124m'\u001b[39m]\u001b[38;5;241m.\u001b[39mvalue_counts()]\n\u001b[1;32m----> 7\u001b[0m plt\u001b[38;5;241m.\u001b[39mpie(index_tf)\n",
      "File \u001b[1;32mC:\\ProgramData\\anaconda3\\Lib\\site-packages\\matplotlib\\pyplot.py:3558\u001b[0m, in \u001b[0;36mpie\u001b[1;34m(x, explode, labels, colors, autopct, pctdistance, shadow, labeldistance, startangle, radius, counterclock, wedgeprops, textprops, center, frame, rotatelabels, normalize, hatch, data)\u001b[0m\n\u001b[0;32m   3535\u001b[0m \u001b[38;5;129m@_copy_docstring_and_deprecators\u001b[39m(Axes\u001b[38;5;241m.\u001b[39mpie)\n\u001b[0;32m   3536\u001b[0m \u001b[38;5;28;01mdef\u001b[39;00m \u001b[38;5;21mpie\u001b[39m(\n\u001b[0;32m   3537\u001b[0m     x: ArrayLike,\n\u001b[1;32m   (...)\u001b[0m\n\u001b[0;32m   3556\u001b[0m     data\u001b[38;5;241m=\u001b[39m\u001b[38;5;28;01mNone\u001b[39;00m,\n\u001b[0;32m   3557\u001b[0m ) \u001b[38;5;241m-\u001b[39m\u001b[38;5;241m>\u001b[39m \u001b[38;5;28mtuple\u001b[39m[\u001b[38;5;28mlist\u001b[39m[Wedge], \u001b[38;5;28mlist\u001b[39m[Text]] \u001b[38;5;241m|\u001b[39m \u001b[38;5;28mtuple\u001b[39m[\u001b[38;5;28mlist\u001b[39m[Wedge], \u001b[38;5;28mlist\u001b[39m[Text], \u001b[38;5;28mlist\u001b[39m[Text]]:\n\u001b[1;32m-> 3558\u001b[0m     \u001b[38;5;28;01mreturn\u001b[39;00m gca()\u001b[38;5;241m.\u001b[39mpie(\n\u001b[0;32m   3559\u001b[0m         x,\n\u001b[0;32m   3560\u001b[0m         explode\u001b[38;5;241m=\u001b[39mexplode,\n\u001b[0;32m   3561\u001b[0m         labels\u001b[38;5;241m=\u001b[39mlabels,\n\u001b[0;32m   3562\u001b[0m         colors\u001b[38;5;241m=\u001b[39mcolors,\n\u001b[0;32m   3563\u001b[0m         autopct\u001b[38;5;241m=\u001b[39mautopct,\n\u001b[0;32m   3564\u001b[0m         pctdistance\u001b[38;5;241m=\u001b[39mpctdistance,\n\u001b[0;32m   3565\u001b[0m         shadow\u001b[38;5;241m=\u001b[39mshadow,\n\u001b[0;32m   3566\u001b[0m         labeldistance\u001b[38;5;241m=\u001b[39mlabeldistance,\n\u001b[0;32m   3567\u001b[0m         startangle\u001b[38;5;241m=\u001b[39mstartangle,\n\u001b[0;32m   3568\u001b[0m         radius\u001b[38;5;241m=\u001b[39mradius,\n\u001b[0;32m   3569\u001b[0m         counterclock\u001b[38;5;241m=\u001b[39mcounterclock,\n\u001b[0;32m   3570\u001b[0m         wedgeprops\u001b[38;5;241m=\u001b[39mwedgeprops,\n\u001b[0;32m   3571\u001b[0m         textprops\u001b[38;5;241m=\u001b[39mtextprops,\n\u001b[0;32m   3572\u001b[0m         center\u001b[38;5;241m=\u001b[39mcenter,\n\u001b[0;32m   3573\u001b[0m         frame\u001b[38;5;241m=\u001b[39mframe,\n\u001b[0;32m   3574\u001b[0m         rotatelabels\u001b[38;5;241m=\u001b[39mrotatelabels,\n\u001b[0;32m   3575\u001b[0m         normalize\u001b[38;5;241m=\u001b[39mnormalize,\n\u001b[0;32m   3576\u001b[0m         hatch\u001b[38;5;241m=\u001b[39mhatch,\n\u001b[0;32m   3577\u001b[0m         \u001b[38;5;241m*\u001b[39m\u001b[38;5;241m*\u001b[39m({\u001b[38;5;124m\"\u001b[39m\u001b[38;5;124mdata\u001b[39m\u001b[38;5;124m\"\u001b[39m: data} \u001b[38;5;28;01mif\u001b[39;00m data \u001b[38;5;129;01mis\u001b[39;00m \u001b[38;5;129;01mnot\u001b[39;00m \u001b[38;5;28;01mNone\u001b[39;00m \u001b[38;5;28;01melse\u001b[39;00m {}),\n\u001b[0;32m   3578\u001b[0m     )\n",
      "File \u001b[1;32mC:\\ProgramData\\anaconda3\\Lib\\site-packages\\matplotlib\\__init__.py:1465\u001b[0m, in \u001b[0;36m_preprocess_data.<locals>.inner\u001b[1;34m(ax, data, *args, **kwargs)\u001b[0m\n\u001b[0;32m   1462\u001b[0m \u001b[38;5;129m@functools\u001b[39m\u001b[38;5;241m.\u001b[39mwraps(func)\n\u001b[0;32m   1463\u001b[0m \u001b[38;5;28;01mdef\u001b[39;00m \u001b[38;5;21minner\u001b[39m(ax, \u001b[38;5;241m*\u001b[39margs, data\u001b[38;5;241m=\u001b[39m\u001b[38;5;28;01mNone\u001b[39;00m, \u001b[38;5;241m*\u001b[39m\u001b[38;5;241m*\u001b[39mkwargs):\n\u001b[0;32m   1464\u001b[0m     \u001b[38;5;28;01mif\u001b[39;00m data \u001b[38;5;129;01mis\u001b[39;00m \u001b[38;5;28;01mNone\u001b[39;00m:\n\u001b[1;32m-> 1465\u001b[0m         \u001b[38;5;28;01mreturn\u001b[39;00m func(ax, \u001b[38;5;241m*\u001b[39m\u001b[38;5;28mmap\u001b[39m(sanitize_sequence, args), \u001b[38;5;241m*\u001b[39m\u001b[38;5;241m*\u001b[39mkwargs)\n\u001b[0;32m   1467\u001b[0m     bound \u001b[38;5;241m=\u001b[39m new_sig\u001b[38;5;241m.\u001b[39mbind(ax, \u001b[38;5;241m*\u001b[39margs, \u001b[38;5;241m*\u001b[39m\u001b[38;5;241m*\u001b[39mkwargs)\n\u001b[0;32m   1468\u001b[0m     auto_label \u001b[38;5;241m=\u001b[39m (bound\u001b[38;5;241m.\u001b[39marguments\u001b[38;5;241m.\u001b[39mget(label_namer)\n\u001b[0;32m   1469\u001b[0m                   \u001b[38;5;129;01mor\u001b[39;00m bound\u001b[38;5;241m.\u001b[39mkwargs\u001b[38;5;241m.\u001b[39mget(label_namer))\n",
      "File \u001b[1;32mC:\\ProgramData\\anaconda3\\Lib\\site-packages\\matplotlib\\axes\\_axes.py:3224\u001b[0m, in \u001b[0;36mAxes.pie\u001b[1;34m(self, x, explode, labels, colors, autopct, pctdistance, shadow, labeldistance, startangle, radius, counterclock, wedgeprops, textprops, center, frame, rotatelabels, normalize, hatch)\u001b[0m\n\u001b[0;32m   3222\u001b[0m x \u001b[38;5;241m=\u001b[39m np\u001b[38;5;241m.\u001b[39masarray(x, np\u001b[38;5;241m.\u001b[39mfloat32)\n\u001b[0;32m   3223\u001b[0m \u001b[38;5;28;01mif\u001b[39;00m x\u001b[38;5;241m.\u001b[39mndim \u001b[38;5;241m>\u001b[39m \u001b[38;5;241m1\u001b[39m:\n\u001b[1;32m-> 3224\u001b[0m     \u001b[38;5;28;01mraise\u001b[39;00m \u001b[38;5;167;01mValueError\u001b[39;00m(\u001b[38;5;124m\"\u001b[39m\u001b[38;5;124mx must be 1D\u001b[39m\u001b[38;5;124m\"\u001b[39m)\n\u001b[0;32m   3226\u001b[0m \u001b[38;5;28;01mif\u001b[39;00m np\u001b[38;5;241m.\u001b[39many(x \u001b[38;5;241m<\u001b[39m \u001b[38;5;241m0\u001b[39m):\n\u001b[0;32m   3227\u001b[0m     \u001b[38;5;28;01mraise\u001b[39;00m \u001b[38;5;167;01mValueError\u001b[39;00m(\u001b[38;5;124m\"\u001b[39m\u001b[38;5;124mWedge sizes \u001b[39m\u001b[38;5;124m'\u001b[39m\u001b[38;5;124mx\u001b[39m\u001b[38;5;124m'\u001b[39m\u001b[38;5;124m must be non negative values\u001b[39m\u001b[38;5;124m\"\u001b[39m)\n",
      "\u001b[1;31mValueError\u001b[0m: x must be 1D"
     ]
    },
    {
     "data": {
      "image/png": "[encoded data removed]",
      "text/plain": [
       "<Figure size 640x480 with 1 Axes>"
      ]
     },
     "metadata": {},
     "output_type": "display_data"
    }
   ],
   "source": [
    "#plt.plot(dataframe)\n",
    "#plt.title('Attack Type Percentage')\n",
    "#plt.xlabel('Hello')\n",
    "#plt.ylabel('Yes')\n",
    "\n",
    "index_tf = [tf_iotDF['Attack_type'].value_counts()]\n",
    "plt.pie(index_tf)"
   ]
  },
  {
   "cell_type": "code",
   "execution_count": 39,
   "id": "df3c4556-9bbe-4cec-940d-3b7af3292cf1",
   "metadata": {},
   "outputs": [
    {
     "data": {
      "text/plain": [
       "([<matplotlib.patches.Wedge at 0x21bb18f0560>,\n",
       "  <matplotlib.patches.Wedge at 0x21bb2054f50>,\n",
       "  <matplotlib.patches.Wedge at 0x21bb18646e0>],\n",
       " [Text(0.4772720865178074, 0.9910657674599294, ''),\n",
       "  Text(-0.9910657898026471, 0.47727204012266977, ''),\n",
       "  Text(1.0298943251329445e-07, -1.0999999999999954, '')])"
      ]
     },
     "execution_count": 39,
     "metadata": {},
     "output_type": "execute_result"
    },
    {
     "data": {
      "image/png": "[encoded data removed]",
      "text/plain": [
       "<Figure size 640x480 with 1 Axes>"
      ]
     },
     "metadata": {},
     "output_type": "display_data"
    }
   ],
   "source": [
    "dataframe = [0.5, 0.2, 0.7]\n",
    "# plt.plot(dataframe)\n",
    "#plt.title('Attack Type Percentage')\n",
    "#plt.xlabel('Hello')\n",
    "#plt.ylabel('Yes')\n",
    "\n",
    "plt.pie(dataframe) \"\"\" I used these codes to remember how functions of plt work.\n",
    "                        I was going to analyze the frequency percentage of the Attack types in the dataset. \"\"\""
   ]
  },
  {
   "cell_type": "code",
   "execution_count": null,
   "id": "1fefb28f-6393-443d-8555-c8c57a88252f",
   "metadata": {},
   "outputs": [],
   "source": []
  }
 ],
 "metadata": {
  "kernelspec": {
   "display_name": "Python 3 (ipykernel)",
   "language": "python",
   "name": "python3"
  },
  "language_info": {
   "codemirror_mode": {
    "name": "ipython",
    "version": 3
   },
   "file_extension": ".py",
   "mimetype": "text/x-python",
   "name": "python",
   "nbconvert_exporter": "python",
   "pygments_lexer": "ipython3",
   "version": "3.12.4"
  }
 },
 "nbformat": 4,
 "nbformat_minor": 5
}
