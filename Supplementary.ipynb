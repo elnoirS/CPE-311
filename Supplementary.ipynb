{
 "cells": [
  {
   "cell_type": "markdown",
   "id": "171e4ca3-b917-4a87-aa46-bbb6d46f4500",
   "metadata": {},
   "source": [
    "## Module 7: Data Wrangling with Pandas"
   ]
  },
  {
   "cell_type": "markdown",
   "id": "c33cbb6b-ecc1-4637-9584-c93ef510b0b4",
   "metadata": {},
   "source": [
    "**CPE311 Computational Thinking with Python**"
   ]
  },
  {
   "cell_type": "markdown",
   "id": "df10f9fb-c3b4-4064-93fe-0771e56f0aff",
   "metadata": {},
   "source": [
    "Submitted by: Paala, Anton <br>\n",
    "Performed on: 04/07/25 <br>\n",
    "Submitted on: 04/07/25"
   ]
  },
  {
   "cell_type": "markdown",
   "id": "fd1e2eaf-8b81-492f-b5a4-310752278d90",
   "metadata": {},
   "source": [
    "Submitted to: Engr. Roman Richard"
   ]
  },
  {
   "cell_type": "markdown",
   "id": "e74cce5b-2f15-4130-b890-b2377a3f1df4",
   "metadata": {},
   "source": [
    "***"
   ]
  },
  {
   "cell_type": "markdown",
   "id": "4322b307-1bb1-41f0-9802-a5d538b5367e",
   "metadata": {},
   "source": [
    "# 7.1 Supplementary Activity"
   ]
  },
  {
   "cell_type": "markdown",
   "id": "bde36b48-7ab3-4afe-bb3b-4b4722b0522c",
   "metadata": {},
   "source": [
    "Using the datasets provided, perform the following exercises."
   ]
  },
  {
   "cell_type": "code",
   "execution_count": null,
   "id": "72870132-2b27-49dd-b206-5c851bbddedd",
   "metadata": {},
   "outputs": [],
   "source": []
  }
 ],
 "metadata": {
  "kernelspec": {
   "display_name": "Python 3 (ipykernel)",
   "language": "python",
   "name": "python3"
  },
  "language_info": {
   "codemirror_mode": {
    "name": "ipython",
    "version": 3
   },
   "file_extension": ".py",
   "mimetype": "text/x-python",
   "name": "python",
   "nbconvert_exporter": "python",
   "pygments_lexer": "ipython3",
   "version": "3.11.4"
  }
 },
 "nbformat": 4,
 "nbformat_minor": 5
}
