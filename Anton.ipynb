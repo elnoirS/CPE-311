{
 "cells": [
  {
   "cell_type": "markdown",
   "id": "5b8f5997-3b79-48cb-8672-b65dc4370e0f",
   "metadata": {},
   "source": [
    "# Seatwork 10.1 Case Study: Improving RT-IoT2022 Analysis"
   ]
  },
  {
   "cell_type": "markdown",
   "id": "33129f02-8adc-4401-bfc9-51554585ef47",
   "metadata": {},
   "source": [
    "*What are the things that I could have done better in this dataset?* <br>\n",
    "- The first one is to rename the selected columns so that it would be clear and not as confusing.\n",
    "- I could have also checked out and determine the changes in the attributes with regards to the packets.\n",
    "- Additionally, I could have also thought about the correlation of the attributes with the attack type in order to define the attack type. "
   ]
  },
  {
   "cell_type": "code",
   "execution_count": 19,
   "id": "b4076a4b-bff8-481b-8b0e-8674afafd7ff",
   "metadata": {
    "tags": []
   },
   "outputs": [
    {
     "data": {
      "text/html": [
       "<div>\n",
       "<style scoped>\n",
       "    .dataframe tbody tr th:only-of-type {\n",
       "        vertical-align: middle;\n",
       "    }\n",
       "\n",
       "    .dataframe tbody tr th {\n",
       "        vertical-align: top;\n",
       "    }\n",
       "\n",
       "    .dataframe thead th {\n",
       "        text-align: right;\n",
       "    }\n",
       "</style>\n",
       "<table border=\"1\" class=\"dataframe\">\n",
       "  <thead>\n",
       "    <tr style=\"text-align: right;\">\n",
       "      <th></th>\n",
       "      <th>no</th>\n",
       "      <th>id.orig_p</th>\n",
       "      <th>id.resp_p</th>\n",
       "      <th>proto</th>\n",
       "      <th>service</th>\n",
       "      <th>flow_duration</th>\n",
       "      <th>fwd_pkts_tot</th>\n",
       "      <th>bwd_pkts_tot</th>\n",
       "      <th>fwd_data_pkts_tot</th>\n",
       "      <th>bwd_data_pkts_tot</th>\n",
       "      <th>...</th>\n",
       "      <th>active.std</th>\n",
       "      <th>idle.min</th>\n",
       "      <th>idle.max</th>\n",
       "      <th>idle.tot</th>\n",
       "      <th>idle.avg</th>\n",
       "      <th>idle.std</th>\n",
       "      <th>fwd_init_window_size</th>\n",
       "      <th>bwd_init_window_size</th>\n",
       "      <th>fwd_last_window_size</th>\n",
       "      <th>Attack_type</th>\n",
       "    </tr>\n",
       "  </thead>\n",
       "  <tbody>\n",
       "    <tr>\n",
       "      <th>0</th>\n",
       "      <td>0</td>\n",
       "      <td>38667</td>\n",
       "      <td>1883</td>\n",
       "      <td>tcp</td>\n",
       "      <td>mqtt</td>\n",
       "      <td>32.011598</td>\n",
       "      <td>9</td>\n",
       "      <td>5</td>\n",
       "      <td>3</td>\n",
       "      <td>3</td>\n",
       "      <td>...</td>\n",
       "      <td>0.0</td>\n",
       "      <td>2.972918e+07</td>\n",
       "      <td>2.972918e+07</td>\n",
       "      <td>2.972918e+07</td>\n",
       "      <td>2.972918e+07</td>\n",
       "      <td>0.0</td>\n",
       "      <td>64240</td>\n",
       "      <td>26847</td>\n",
       "      <td>502</td>\n",
       "      <td>MQTT_Publish</td>\n",
       "    </tr>\n",
       "    <tr>\n",
       "      <th>1</th>\n",
       "      <td>1</td>\n",
       "      <td>51143</td>\n",
       "      <td>1883</td>\n",
       "      <td>tcp</td>\n",
       "      <td>mqtt</td>\n",
       "      <td>31.883584</td>\n",
       "      <td>9</td>\n",
       "      <td>5</td>\n",
       "      <td>3</td>\n",
       "      <td>3</td>\n",
       "      <td>...</td>\n",
       "      <td>0.0</td>\n",
       "      <td>2.985528e+07</td>\n",
       "      <td>2.985528e+07</td>\n",
       "      <td>2.985528e+07</td>\n",
       "      <td>2.985528e+07</td>\n",
       "      <td>0.0</td>\n",
       "      <td>64240</td>\n",
       "      <td>26847</td>\n",
       "      <td>502</td>\n",
       "      <td>MQTT_Publish</td>\n",
       "    </tr>\n",
       "    <tr>\n",
       "      <th>2</th>\n",
       "      <td>2</td>\n",
       "      <td>44761</td>\n",
       "      <td>1883</td>\n",
       "      <td>tcp</td>\n",
       "      <td>mqtt</td>\n",
       "      <td>32.124053</td>\n",
       "      <td>9</td>\n",
       "      <td>5</td>\n",
       "      <td>3</td>\n",
       "      <td>3</td>\n",
       "      <td>...</td>\n",
       "      <td>0.0</td>\n",
       "      <td>2.984215e+07</td>\n",
       "      <td>2.984215e+07</td>\n",
       "      <td>2.984215e+07</td>\n",
       "      <td>2.984215e+07</td>\n",
       "      <td>0.0</td>\n",
       "      <td>64240</td>\n",
       "      <td>26847</td>\n",
       "      <td>502</td>\n",
       "      <td>MQTT_Publish</td>\n",
       "    </tr>\n",
       "    <tr>\n",
       "      <th>3</th>\n",
       "      <td>3</td>\n",
       "      <td>60893</td>\n",
       "      <td>1883</td>\n",
       "      <td>tcp</td>\n",
       "      <td>mqtt</td>\n",
       "      <td>31.961063</td>\n",
       "      <td>9</td>\n",
       "      <td>5</td>\n",
       "      <td>3</td>\n",
       "      <td>3</td>\n",
       "      <td>...</td>\n",
       "      <td>0.0</td>\n",
       "      <td>2.991377e+07</td>\n",
       "      <td>2.991377e+07</td>\n",
       "      <td>2.991377e+07</td>\n",
       "      <td>2.991377e+07</td>\n",
       "      <td>0.0</td>\n",
       "      <td>64240</td>\n",
       "      <td>26847</td>\n",
       "      <td>502</td>\n",
       "      <td>MQTT_Publish</td>\n",
       "    </tr>\n",
       "    <tr>\n",
       "      <th>4</th>\n",
       "      <td>4</td>\n",
       "      <td>51087</td>\n",
       "      <td>1883</td>\n",
       "      <td>tcp</td>\n",
       "      <td>mqtt</td>\n",
       "      <td>31.902362</td>\n",
       "      <td>9</td>\n",
       "      <td>5</td>\n",
       "      <td>3</td>\n",
       "      <td>3</td>\n",
       "      <td>...</td>\n",
       "      <td>0.0</td>\n",
       "      <td>2.981470e+07</td>\n",
       "      <td>2.981470e+07</td>\n",
       "      <td>2.981470e+07</td>\n",
       "      <td>2.981470e+07</td>\n",
       "      <td>0.0</td>\n",
       "      <td>64240</td>\n",
       "      <td>26847</td>\n",
       "      <td>502</td>\n",
       "      <td>MQTT_Publish</td>\n",
       "    </tr>\n",
       "  </tbody>\n",
       "</table>\n",
       "<p>5 rows × 85 columns</p>\n",
       "</div>"
      ],
      "text/plain": [
       "   no  id.orig_p  id.resp_p proto service  flow_duration  fwd_pkts_tot  \\\n",
       "0   0      38667       1883   tcp    mqtt      32.011598             9   \n",
       "1   1      51143       1883   tcp    mqtt      31.883584             9   \n",
       "2   2      44761       1883   tcp    mqtt      32.124053             9   \n",
       "3   3      60893       1883   tcp    mqtt      31.961063             9   \n",
       "4   4      51087       1883   tcp    mqtt      31.902362             9   \n",
       "\n",
       "   bwd_pkts_tot  fwd_data_pkts_tot  bwd_data_pkts_tot  ...  active.std  \\\n",
       "0             5                  3                  3  ...         0.0   \n",
       "1             5                  3                  3  ...         0.0   \n",
       "2             5                  3                  3  ...         0.0   \n",
       "3             5                  3                  3  ...         0.0   \n",
       "4             5                  3                  3  ...         0.0   \n",
       "\n",
       "       idle.min      idle.max      idle.tot      idle.avg  idle.std  \\\n",
       "0  2.972918e+07  2.972918e+07  2.972918e+07  2.972918e+07       0.0   \n",
       "1  2.985528e+07  2.985528e+07  2.985528e+07  2.985528e+07       0.0   \n",
       "2  2.984215e+07  2.984215e+07  2.984215e+07  2.984215e+07       0.0   \n",
       "3  2.991377e+07  2.991377e+07  2.991377e+07  2.991377e+07       0.0   \n",
       "4  2.981470e+07  2.981470e+07  2.981470e+07  2.981470e+07       0.0   \n",
       "\n",
       "   fwd_init_window_size  bwd_init_window_size  fwd_last_window_size  \\\n",
       "0                 64240                 26847                   502   \n",
       "1                 64240                 26847                   502   \n",
       "2                 64240                 26847                   502   \n",
       "3                 64240                 26847                   502   \n",
       "4                 64240                 26847                   502   \n",
       "\n",
       "    Attack_type  \n",
       "0  MQTT_Publish  \n",
       "1  MQTT_Publish  \n",
       "2  MQTT_Publish  \n",
       "3  MQTT_Publish  \n",
       "4  MQTT_Publish  \n",
       "\n",
       "[5 rows x 85 columns]"
      ]
     },
     "execution_count": 19,
     "metadata": {},
     "output_type": "execute_result"
    }
   ],
   "source": [
    "import numpy as np\n",
    "import pandas as pd\n",
    "import matplotlib.pyplot as plt\n",
    "\n",
    "df = pd.read_csv('C:/Users/tipqc/CPE311 - Paala/RT_IOT2022.csv')\n",
    "df.head()"
   ]
  },
  {
   "cell_type": "code",
   "execution_count": 6,
   "id": "385f3b3e-b5f7-4f49-b49e-c870ac556713",
   "metadata": {
    "tags": []
   },
   "outputs": [],
   "source": [
    "dfv2 = df.copy()"
   ]
  },
  {
   "cell_type": "code",
   "execution_count": 7,
   "id": "fe04e0e8-7a6a-46d3-9ba9-0dfff2e861ca",
   "metadata": {
    "tags": []
   },
   "outputs": [
    {
     "data": {
      "text/plain": [
       "Attack_type\n",
       "DOS_SYN_Hping     94659\n",
       "Thing_Speak        8108\n",
       "ARP_poisioning     7750\n",
       "MQTT_Publish       4146\n",
       "NMAP_UDP_SCAN      2590\n",
       "Name: count, dtype: int64"
      ]
     },
     "execution_count": 7,
     "metadata": {},
     "output_type": "execute_result"
    }
   ],
   "source": [
    "dfv2.Attack_type.value_counts().nlargest(5)\n",
    "# By the use of this, we can determine the ranking of the highest to lowest distributions in the dataset.\n",
    "# We are going to take the top 5 from this ranking, by isolating it using queries"
   ]
  },
  {
   "cell_type": "code",
   "execution_count": 8,
   "id": "0832f320-8554-4007-b7a7-21ef4a399c35",
   "metadata": {
    "tags": []
   },
   "outputs": [],
   "source": [
    "dfv2_top_5 = dfv2.query(\"Attack_type == ['DOS_SYN_Hping', 'Thing_Speak', 'ARP_poisioning', 'MQTT_Publish', 'NMAP_UDP_SCAN']\")"
   ]
  },
  {
   "cell_type": "code",
   "execution_count": 9,
   "id": "c8cdd3f3-98ed-4d8d-a421-f308e1e95e8f",
   "metadata": {
    "tags": []
   },
   "outputs": [
    {
     "data": {
      "text/html": [
       "<div>\n",
       "<style scoped>\n",
       "    .dataframe tbody tr th:only-of-type {\n",
       "        vertical-align: middle;\n",
       "    }\n",
       "\n",
       "    .dataframe tbody tr th {\n",
       "        vertical-align: top;\n",
       "    }\n",
       "\n",
       "    .dataframe thead th {\n",
       "        text-align: right;\n",
       "    }\n",
       "</style>\n",
       "<table border=\"1\" class=\"dataframe\">\n",
       "  <thead>\n",
       "    <tr style=\"text-align: right;\">\n",
       "      <th></th>\n",
       "      <th>no</th>\n",
       "      <th>id.orig_p</th>\n",
       "      <th>id.resp_p</th>\n",
       "      <th>proto</th>\n",
       "      <th>service</th>\n",
       "      <th>flow_duration</th>\n",
       "      <th>fwd_pkts_tot</th>\n",
       "      <th>bwd_pkts_tot</th>\n",
       "      <th>fwd_data_pkts_tot</th>\n",
       "      <th>bwd_data_pkts_tot</th>\n",
       "      <th>...</th>\n",
       "      <th>active.std</th>\n",
       "      <th>idle.min</th>\n",
       "      <th>idle.max</th>\n",
       "      <th>idle.tot</th>\n",
       "      <th>idle.avg</th>\n",
       "      <th>idle.std</th>\n",
       "      <th>fwd_init_window_size</th>\n",
       "      <th>bwd_init_window_size</th>\n",
       "      <th>fwd_last_window_size</th>\n",
       "      <th>Attack_type</th>\n",
       "    </tr>\n",
       "  </thead>\n",
       "  <tbody>\n",
       "    <tr>\n",
       "      <th>20154</th>\n",
       "      <td>7647</td>\n",
       "      <td>39242</td>\n",
       "      <td>443</td>\n",
       "      <td>tcp</td>\n",
       "      <td>ssl</td>\n",
       "      <td>5341.392332</td>\n",
       "      <td>812</td>\n",
       "      <td>546</td>\n",
       "      <td>272</td>\n",
       "      <td>280</td>\n",
       "      <td>...</td>\n",
       "      <td>2.080892e+06</td>\n",
       "      <td>5.004108e+06</td>\n",
       "      <td>2.183106e+07</td>\n",
       "      <td>4.829833e+09</td>\n",
       "      <td>1.349115e+07</td>\n",
       "      <td>5.184225e+06</td>\n",
       "      <td>64240</td>\n",
       "      <td>26847</td>\n",
       "      <td>501</td>\n",
       "      <td>ARP_poisioning</td>\n",
       "    </tr>\n",
       "    <tr>\n",
       "      <th>20152</th>\n",
       "      <td>7645</td>\n",
       "      <td>44058</td>\n",
       "      <td>443</td>\n",
       "      <td>tcp</td>\n",
       "      <td>ssl</td>\n",
       "      <td>5340.386892</td>\n",
       "      <td>365</td>\n",
       "      <td>188</td>\n",
       "      <td>183</td>\n",
       "      <td>181</td>\n",
       "      <td>...</td>\n",
       "      <td>8.889340e+04</td>\n",
       "      <td>8.660926e+06</td>\n",
       "      <td>3.094118e+07</td>\n",
       "      <td>5.290016e+09</td>\n",
       "      <td>2.988710e+07</td>\n",
       "      <td>1.607371e+06</td>\n",
       "      <td>64240</td>\n",
       "      <td>26847</td>\n",
       "      <td>501</td>\n",
       "      <td>ARP_poisioning</td>\n",
       "    </tr>\n",
       "    <tr>\n",
       "      <th>15208</th>\n",
       "      <td>2701</td>\n",
       "      <td>46602</td>\n",
       "      <td>443</td>\n",
       "      <td>tcp</td>\n",
       "      <td>ssl</td>\n",
       "      <td>2379.349634</td>\n",
       "      <td>106</td>\n",
       "      <td>110</td>\n",
       "      <td>97</td>\n",
       "      <td>8</td>\n",
       "      <td>...</td>\n",
       "      <td>9.173655e+05</td>\n",
       "      <td>5.896647e+06</td>\n",
       "      <td>2.987661e+07</td>\n",
       "      <td>2.338478e+09</td>\n",
       "      <td>2.851802e+07</td>\n",
       "      <td>4.397563e+06</td>\n",
       "      <td>64240</td>\n",
       "      <td>62643</td>\n",
       "      <td>501</td>\n",
       "      <td>ARP_poisioning</td>\n",
       "    </tr>\n",
       "    <tr>\n",
       "      <th>15183</th>\n",
       "      <td>2676</td>\n",
       "      <td>37242</td>\n",
       "      <td>443</td>\n",
       "      <td>tcp</td>\n",
       "      <td>ssl</td>\n",
       "      <td>2083.013699</td>\n",
       "      <td>1453</td>\n",
       "      <td>1986</td>\n",
       "      <td>1156</td>\n",
       "      <td>843</td>\n",
       "      <td>...</td>\n",
       "      <td>6.351792e+06</td>\n",
       "      <td>5.329808e+06</td>\n",
       "      <td>5.893482e+07</td>\n",
       "      <td>1.743353e+09</td>\n",
       "      <td>7.817725e+06</td>\n",
       "      <td>5.967887e+06</td>\n",
       "      <td>64240</td>\n",
       "      <td>65535</td>\n",
       "      <td>501</td>\n",
       "      <td>ARP_poisioning</td>\n",
       "    </tr>\n",
       "    <tr>\n",
       "      <th>14995</th>\n",
       "      <td>2488</td>\n",
       "      <td>59400</td>\n",
       "      <td>443</td>\n",
       "      <td>tcp</td>\n",
       "      <td>ssl</td>\n",
       "      <td>1401.219948</td>\n",
       "      <td>197</td>\n",
       "      <td>191</td>\n",
       "      <td>41</td>\n",
       "      <td>30</td>\n",
       "      <td>...</td>\n",
       "      <td>1.065720e+06</td>\n",
       "      <td>5.362672e+06</td>\n",
       "      <td>1.025314e+07</td>\n",
       "      <td>1.338364e+09</td>\n",
       "      <td>9.913807e+06</td>\n",
       "      <td>9.132791e+05</td>\n",
       "      <td>64240</td>\n",
       "      <td>65160</td>\n",
       "      <td>0</td>\n",
       "      <td>ARP_poisioning</td>\n",
       "    </tr>\n",
       "  </tbody>\n",
       "</table>\n",
       "<p>5 rows × 85 columns</p>\n",
       "</div>"
      ],
      "text/plain": [
       "         no  id.orig_p  id.resp_p proto service  flow_duration  fwd_pkts_tot  \\\n",
       "20154  7647      39242        443   tcp     ssl    5341.392332           812   \n",
       "20152  7645      44058        443   tcp     ssl    5340.386892           365   \n",
       "15208  2701      46602        443   tcp     ssl    2379.349634           106   \n",
       "15183  2676      37242        443   tcp     ssl    2083.013699          1453   \n",
       "14995  2488      59400        443   tcp     ssl    1401.219948           197   \n",
       "\n",
       "       bwd_pkts_tot  fwd_data_pkts_tot  bwd_data_pkts_tot  ...    active.std  \\\n",
       "20154           546                272                280  ...  2.080892e+06   \n",
       "20152           188                183                181  ...  8.889340e+04   \n",
       "15208           110                 97                  8  ...  9.173655e+05   \n",
       "15183          1986               1156                843  ...  6.351792e+06   \n",
       "14995           191                 41                 30  ...  1.065720e+06   \n",
       "\n",
       "           idle.min      idle.max      idle.tot      idle.avg      idle.std  \\\n",
       "20154  5.004108e+06  2.183106e+07  4.829833e+09  1.349115e+07  5.184225e+06   \n",
       "20152  8.660926e+06  3.094118e+07  5.290016e+09  2.988710e+07  1.607371e+06   \n",
       "15208  5.896647e+06  2.987661e+07  2.338478e+09  2.851802e+07  4.397563e+06   \n",
       "15183  5.329808e+06  5.893482e+07  1.743353e+09  7.817725e+06  5.967887e+06   \n",
       "14995  5.362672e+06  1.025314e+07  1.338364e+09  9.913807e+06  9.132791e+05   \n",
       "\n",
       "       fwd_init_window_size  bwd_init_window_size  fwd_last_window_size  \\\n",
       "20154                 64240                 26847                   501   \n",
       "20152                 64240                 26847                   501   \n",
       "15208                 64240                 62643                   501   \n",
       "15183                 64240                 65535                   501   \n",
       "14995                 64240                 65160                     0   \n",
       "\n",
       "          Attack_type  \n",
       "20154  ARP_poisioning  \n",
       "20152  ARP_poisioning  \n",
       "15208  ARP_poisioning  \n",
       "15183  ARP_poisioning  \n",
       "14995  ARP_poisioning  \n",
       "\n",
       "[5 rows x 85 columns]"
      ]
     },
     "execution_count": 9,
     "metadata": {},
     "output_type": "execute_result"
    }
   ],
   "source": [
    "dfv2_top_5.sort_values('flow_duration', ascending=False).head()"
   ]
  },
  {
   "cell_type": "code",
   "execution_count": 10,
   "id": "d72e9b3b-b36c-404b-b5c1-1ae411347c3e",
   "metadata": {
    "tags": []
   },
   "outputs": [
    {
     "data": {
      "text/plain": [
       "Index(['no', 'id.orig_p', 'id.resp_p', 'proto', 'service', 'flow_duration',\n",
       "       'fwd_pkts_tot', 'bwd_pkts_tot', 'fwd_data_pkts_tot',\n",
       "       'bwd_data_pkts_tot', 'fwd_pkts_per_sec', 'bwd_pkts_per_sec',\n",
       "       'flow_pkts_per_sec', 'down_up_ratio', 'fwd_header_size_tot',\n",
       "       'fwd_header_size_min', 'fwd_header_size_max', 'bwd_header_size_tot',\n",
       "       'bwd_header_size_min', 'bwd_header_size_max', 'flow_FIN_flag_count',\n",
       "       'flow_SYN_flag_count', 'flow_RST_flag_count', 'fwd_PSH_flag_count',\n",
       "       'bwd_PSH_flag_count', 'flow_ACK_flag_count', 'fwd_URG_flag_count',\n",
       "       'bwd_URG_flag_count', 'flow_CWR_flag_count', 'flow_ECE_flag_count',\n",
       "       'fwd_pkts_payload.min', 'fwd_pkts_payload.max', 'fwd_pkts_payload.tot',\n",
       "       'fwd_pkts_payload.avg', 'fwd_pkts_payload.std', 'bwd_pkts_payload.min',\n",
       "       'bwd_pkts_payload.max', 'bwd_pkts_payload.tot', 'bwd_pkts_payload.avg',\n",
       "       'bwd_pkts_payload.std', 'flow_pkts_payload.min',\n",
       "       'flow_pkts_payload.max', 'flow_pkts_payload.tot',\n",
       "       'flow_pkts_payload.avg', 'flow_pkts_payload.std', 'fwd_iat.min',\n",
       "       'fwd_iat.max', 'fwd_iat.tot', 'fwd_iat.avg', 'fwd_iat.std',\n",
       "       'bwd_iat.min', 'bwd_iat.max', 'bwd_iat.tot', 'bwd_iat.avg',\n",
       "       'bwd_iat.std', 'flow_iat.min', 'flow_iat.max', 'flow_iat.tot',\n",
       "       'flow_iat.avg', 'flow_iat.std', 'payload_bytes_per_second',\n",
       "       'fwd_subflow_pkts', 'bwd_subflow_pkts', 'fwd_subflow_bytes',\n",
       "       'bwd_subflow_bytes', 'fwd_bulk_bytes', 'bwd_bulk_bytes',\n",
       "       'fwd_bulk_packets', 'bwd_bulk_packets', 'fwd_bulk_rate',\n",
       "       'bwd_bulk_rate', 'active.min', 'active.max', 'active.tot', 'active.avg',\n",
       "       'active.std', 'idle.min', 'idle.max', 'idle.tot', 'idle.avg',\n",
       "       'idle.std', 'fwd_init_window_size', 'bwd_init_window_size',\n",
       "       'fwd_last_window_size', 'Attack_type'],\n",
       "      dtype='object')"
      ]
     },
     "execution_count": 10,
     "metadata": {},
     "output_type": "execute_result"
    }
   ],
   "source": [
    "dfv2.columns"
   ]
  },
  {
   "cell_type": "code",
   "execution_count": 11,
   "id": "7072f444-7b96-4b9b-9b07-36f41955ec9a",
   "metadata": {
    "tags": []
   },
   "outputs": [],
   "source": [
    "dfv2_top_5_formulated = df[['id.orig_p',\n",
    "                            'id.resp_p',\n",
    "                            'down_up_ratio',\n",
    "                            'proto',\n",
    "                            'service',\n",
    "                            'flow_duration',\n",
    "                            'payload_bytes_per_second',\n",
    "                            'active.avg',\n",
    "                            'idle.avg',\n",
    "                            'Attack_type']]"
   ]
  },
  {
   "cell_type": "code",
   "execution_count": 17,
   "id": "b91657e5-da7a-408c-8cef-0fc8e0385330",
   "metadata": {
    "tags": []
   },
   "outputs": [
    {
     "data": {
      "text/plain": [
       "<function matplotlib.pyplot.show(close=None, block=None)>"
      ]
     },
     "execution_count": 17,
     "metadata": {},
     "output_type": "execute_result"
    },
    {
     "data": {
      "image/png": "[encoded data removed]",
      "text/plain": [
       "<Figure size 640x480 with 1 Axes>"
      ]
     },
     "metadata": {},
     "output_type": "display_data"
    }
   ],
   "source": [
    "counts = dfv2_top_5.groupby('Attack_type')['Attack_type'].count()\n",
    "y = counts.values\n",
    "x = counts.index\n",
    "plt.pie(y, labels=x, autopct=('%1.1f%%'))\n",
    "plt.suptitle('Frequency Distribution of the Top 5 Attack Types')\n",
    "plt.show"
   ]
  },
  {
   "cell_type": "code",
   "execution_count": 30,
   "id": "30e8d4ef-85ab-4fb6-8b56-1b024fd33cfc",
   "metadata": {},
   "outputs": [
    {
     "data": {
      "text/plain": [
       "<Axes: title={'center': 'The Mean and Standard Deviation of Flow Duration in Each Attack Type'}, ylabel='Attack_type'>"
      ]
     },
     "execution_count": 30,
     "metadata": {},
     "output_type": "execute_result"
    },
    {
     "data": {
      "image/png": "[encoded data removed]",
      "text/plain": [
       "<Figure size 640x480 with 1 Axes>"
      ]
     },
     "metadata": {},
     "output_type": "display_data"
    }
   ],
   "source": [
    "dfv2_mean_std = dfv2_top_5.groupby('Attack_type')['flow_duration'].agg(['mean', 'std'])\n",
    "dfv2_mean_std.plot(kind='barh', y='mean', xerr='std', title='The Mean and Standard Deviation of Flow Duration in Each Attack Type')"
   ]
  },
  {
   "cell_type": "code",
   "execution_count": 48,
   "id": "729b0632-6a03-4348-b2f1-c20234badf0d",
   "metadata": {},
   "outputs": [
    {
     "data": {
      "text/plain": [
       "<matplotlib.legend.Legend at 0x1f848160fb0>"
      ]
     },
     "execution_count": 48,
     "metadata": {},
     "output_type": "execute_result"
    },
    {
     "data": {
      "image/png": "[encoded data removed]",
      "text/plain": [
       "<Figure size 640x480 with 1 Axes>"
      ]
     },
     "metadata": {},
     "output_type": "display_data"
    }
   ],
   "source": [
    "plt.errorbar(dfv2_mean_std['mean'], dfv2_mean_std.index, xerr=dfv2_mean_std['std'], fmt='o', label='mean', ecolor='purple')\n",
    "plt.suptitle('Error Plot of Mean and Standard Deviation of Each Attack Type')\n",
    "plt.xlabel('Standard deviation')\n",
    "plt.ylabel('Attack types')\n",
    "plt.legend()"
   ]
  },
  {
   "cell_type": "code",
   "execution_count": 33,
   "id": "c1351fe7-e61b-40ee-bc47-6a737bff151e",
   "metadata": {},
   "outputs": [
    {
     "data": {
      "text/html": [
       "<div>\n",
       "<style scoped>\n",
       "    .dataframe tbody tr th:only-of-type {\n",
       "        vertical-align: middle;\n",
       "    }\n",
       "\n",
       "    .dataframe tbody tr th {\n",
       "        vertical-align: top;\n",
       "    }\n",
       "\n",
       "    .dataframe thead th {\n",
       "        text-align: right;\n",
       "    }\n",
       "</style>\n",
       "<table border=\"1\" class=\"dataframe\">\n",
       "  <thead>\n",
       "    <tr style=\"text-align: right;\">\n",
       "      <th></th>\n",
       "      <th>mean</th>\n",
       "      <th>std</th>\n",
       "    </tr>\n",
       "    <tr>\n",
       "      <th>Attack_type</th>\n",
       "      <th></th>\n",
       "      <th></th>\n",
       "    </tr>\n",
       "  </thead>\n",
       "  <tbody>\n",
       "    <tr>\n",
       "      <th>ARP_poisioning</th>\n",
       "      <td>15.893538</td>\n",
       "      <td>108.261070</td>\n",
       "    </tr>\n",
       "    <tr>\n",
       "      <th>DOS_SYN_Hping</th>\n",
       "      <td>0.000003</td>\n",
       "      <td>0.000002</td>\n",
       "    </tr>\n",
       "    <tr>\n",
       "      <th>MQTT_Publish</th>\n",
       "      <td>43.397013</td>\n",
       "      <td>24.341563</td>\n",
       "    </tr>\n",
       "    <tr>\n",
       "      <th>NMAP_UDP_SCAN</th>\n",
       "      <td>0.737766</td>\n",
       "      <td>24.909755</td>\n",
       "    </tr>\n",
       "    <tr>\n",
       "      <th>Thing_Speak</th>\n",
       "      <td>0.934471</td>\n",
       "      <td>5.251602</td>\n",
       "    </tr>\n",
       "  </tbody>\n",
       "</table>\n",
       "</div>"
      ],
      "text/plain": [
       "                     mean         std\n",
       "Attack_type                          \n",
       "ARP_poisioning  15.893538  108.261070\n",
       "DOS_SYN_Hping    0.000003    0.000002\n",
       "MQTT_Publish    43.397013   24.341563\n",
       "NMAP_UDP_SCAN    0.737766   24.909755\n",
       "Thing_Speak      0.934471    5.251602"
      ]
     },
     "execution_count": 33,
     "metadata": {},
     "output_type": "execute_result"
    }
   ],
   "source": [
    "dfv2_mean_std"
   ]
  },
  {
   "cell_type": "code",
   "execution_count": null,
   "id": "5dc155da-2a1a-4d1d-b8a1-342cf36cf339",
   "metadata": {},
   "outputs": [],
   "source": []
  }
 ],
 "metadata": {
  "kernelspec": {
   "display_name": "Python 3 (ipykernel)",
   "language": "python",
   "name": "python3"
  },
  "language_info": {
   "codemirror_mode": {
    "name": "ipython",
    "version": 3
   },
   "file_extension": ".py",
   "mimetype": "text/x-python",
   "name": "python",
   "nbconvert_exporter": "python",
   "pygments_lexer": "ipython3",
   "version": "3.12.4"
  }
 },
 "nbformat": 4,
 "nbformat_minor": 5
}
