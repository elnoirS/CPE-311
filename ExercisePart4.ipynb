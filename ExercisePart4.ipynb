{
 "cells": [
  {
   "cell_type": "markdown",
   "id": "912d66b8-cf83-4ce5-ac09-8f3dfab6d6f9",
   "metadata": {},
   "source": [
    "Exercise Part 4"
   ]
  },
  {
   "cell_type": "code",
   "execution_count": 80,
   "id": "c962a364-bad3-47d1-b250-15716a7392f8",
   "metadata": {},
   "outputs": [],
   "source": [
    "import pandas as pd\n",
    "\n",
    "meteorites = pd.read_csv('C:/Users/63999/CPE311 Paala/Datasets/Meteorite_Landings.csv') # Loads the CSV file"
   ]
  },
  {
   "cell_type": "code",
   "execution_count": 82,
   "id": "394f50ed-3c30-440a-b85f-12dd285b5fd2",
   "metadata": {},
   "outputs": [],
   "source": [
    "meteorites['year'] = meteorites['year'].str.slice(start=6, stop=-11) # Slicing the year column"
   ]
  },
  {
   "cell_type": "code",
   "execution_count": 84,
   "id": "47daa572-2199-4762-866c-4dee7ca82bc6",
   "metadata": {},
   "outputs": [],
   "source": [
    "meteorites['year'] = pd.to_numeric(meteorites['year']) # Converting the year into a numeric data type"
   ]
  },
  {
   "cell_type": "code",
   "execution_count": 86,
   "id": "a6ccd012-4239-43a0-aec4-fd9c67362e9a",
   "metadata": {},
   "outputs": [],
   "source": [
    "between05and09 = meteorites.query(\"`year` >= 2005 & year <= 2009\") # Query that filters values that are between 2005 and 2009"
   ]
  },
  {
   "cell_type": "code",
   "execution_count": 88,
   "id": "a473a331-8b5c-4fbd-ab24-bc52213048b2",
   "metadata": {},
   "outputs": [],
   "source": [
    "met_count = between05and09['fall'].count() # The number of meteorites with fell and found values between 2005 and 2009"
   ]
  },
  {
   "cell_type": "code",
   "execution_count": 90,
   "id": "5cfcd1b5-c0cf-4dd6-b8a4-1dc4f2a934d2",
   "metadata": {},
   "outputs": [],
   "source": [
    "met_found = between05and09['mass (g)'][(between05and09.fall == 'Found')].quantile(0.95) # Create a variable for the found values"
   ]
  },
  {
   "cell_type": "code",
   "execution_count": 92,
   "id": "e40bcf33-8566-4257-a642-ff39cf1a17f0",
   "metadata": {},
   "outputs": [],
   "source": [
    "met_fell = between05and09['mass (g)'][(between05and09.fall == 'Fell')].quantile(0.95) # Create a variable for the fell values"
   ]
  },
  {
   "cell_type": "code",
   "execution_count": 65,
   "id": "02f58f1a-b251-4af3-98e8-79c1477ed5f3",
   "metadata": {},
   "outputs": [],
   "source": [
    "foundfell = pd.DataFrame({'Count': [met_count],\n",
    "                          'Fell': [met_fell],\n",
    "                          'Found': [met_found]})"
   ]
  },
  {
   "cell_type": "code",
   "execution_count": 67,
   "id": "093d89a0-345c-4de7-90ec-cddce9420b8a",
   "metadata": {},
   "outputs": [
    {
     "data": {
      "text/html": [
       "<div>\n",
       "<style scoped>\n",
       "    .dataframe tbody tr th:only-of-type {\n",
       "        vertical-align: middle;\n",
       "    }\n",
       "\n",
       "    .dataframe tbody tr th {\n",
       "        vertical-align: top;\n",
       "    }\n",
       "\n",
       "    .dataframe thead th {\n",
       "        text-align: right;\n",
       "    }\n",
       "</style>\n",
       "<table border=\"1\" class=\"dataframe\">\n",
       "  <thead>\n",
       "    <tr style=\"text-align: right;\">\n",
       "      <th></th>\n",
       "      <th>Count</th>\n",
       "      <th>Fell</th>\n",
       "      <th>Found</th>\n",
       "    </tr>\n",
       "  </thead>\n",
       "  <tbody>\n",
       "    <tr>\n",
       "      <th>0</th>\n",
       "      <td>6974</td>\n",
       "      <td>100000.0</td>\n",
       "      <td>1841.64</td>\n",
       "    </tr>\n",
       "  </tbody>\n",
       "</table>\n",
       "</div>"
      ],
      "text/plain": [
       "   Count      Fell    Found\n",
       "0   6974  100000.0  1841.64"
      ]
     },
     "execution_count": 67,
     "metadata": {},
     "output_type": "execute_result"
    }
   ],
   "source": [
    "foundfell"
   ]
  },
  {
   "cell_type": "code",
   "execution_count": 77,
   "id": "3138fdde-b81f-4be9-a199-3396fc6ea2a7",
   "metadata": {},
   "outputs": [
    {
     "data": {
      "text/plain": [
       "mass (g)     fall \n",
       "1.30         Found    171\n",
       "1.20         Found    140\n",
       "1.40         Found    137\n",
       "2.10         Found    130\n",
       "2.40         Found    126\n",
       "                     ... \n",
       "149.88       Found      1\n",
       "149.86       Found      1\n",
       "149.70       Found      1\n",
       "149.60       Found      1\n",
       "60000000.00  Found      1\n",
       "Name: count, Length: 13058, dtype: int64"
      ]
     },
     "execution_count": 77,
     "metadata": {},
     "output_type": "execute_result"
    }
   ],
   "source": [
    "meteorites.value_counts(subset=['mass (g)', 'fall'], normalize=False)"
   ]
  }
 ],
 "metadata": {
  "kernelspec": {
   "display_name": "Python [conda env:base] *",
   "language": "python",
   "name": "conda-base-py"
  },
  "language_info": {
   "codemirror_mode": {
    "name": "ipython",
    "version": 3
   },
   "file_extension": ".py",
   "mimetype": "text/x-python",
   "name": "python",
   "nbconvert_exporter": "python",
   "pygments_lexer": "ipython3",
   "version": "3.12.4"
  }
 },
 "nbformat": 4,
 "nbformat_minor": 5
}
